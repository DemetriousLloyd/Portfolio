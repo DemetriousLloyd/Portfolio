{
 "cells": [
  {
   "cell_type": "code",
   "execution_count": null,
   "metadata": {},
   "outputs": [],
   "source": [
    "from sqlalchemy import create_engine\n",
    "import pandas as pd\n",
    "import os\n",
    "os.chdir('C:/Users/raven/Desktop')\n",
    "\n",
    "\n",
    "# Step  1: Create a SQLAlchemy engine\n",
    "engine = create_engine('postgresql+psycopg2://{user}:{password}@{host}:{port}/{database}')\n",
    "\n",
    "//{user}:{password}@{host}:{port}/{database}'\n",
    "os.chdir('C:/Users/Public/Documents')\n",
    "# Step  2: Assume you have a DataFrame called 'df'\n",
    "df = pd.read_csv('Data_Clean_Fire_Department_Calls_for_Service.csv', header = 0, low_memory= False)\n",
    "\n",
    "# Step  3: Write the DataFrame to the PostgreSQL database\n",
    "df.to_sql('Fire_Department_Calls', con=engine, if_exists='replace', index=False)\n"
   ]
  }
 ],
 "metadata": {
  "kernelspec": {
   "display_name": "Python 3",
   "language": "python",
   "name": "python3"
  },
  "language_info": {
   "name": "python",
   "version": "3.10.11"
  }
 },
 "nbformat": 4,
 "nbformat_minor": 2
}
