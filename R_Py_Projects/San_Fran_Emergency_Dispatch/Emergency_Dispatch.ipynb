{
 "cells": [
  {
   "cell_type": "markdown",
   "metadata": {},
   "source": [
    "# Emergency Dispatch Response Times\n",
    "\n",
    "[Original Data Set](https://data.sfgov.org/Public-Safety/Fire-Department-Calls-for-Service/nuek-vuh3/about_data)\n",
    "\n",
    "Fire Department Calls for Service San Francisco"
   ]
  },
  {
   "cell_type": "markdown",
   "metadata": {},
   "source": [
    "This analysis is an exploratory data analysis observing the difference in time between call received to emergency services and dispatch time.\n",
    "\n",
    "The data set contains timestamp data for emergency services in the San Franscisco Area."
   ]
  },
  {
   "cell_type": "markdown",
   "metadata": {},
   "source": [
    "| Field Name | Data Type | Definition | \n",
    "| --- | --- | --- |\n",
    "| Call Number | Text | A unique 9-digit number assigned by the 911 Dispatch Center (DEM) to this call. These number are used for both Police and Fire calls. | \n",
    "| Unit ID | Text | Unit Identifier. For example E01 for Engine 1 or T01 for Truck 1. | \n",
    "| Incident Number | Text | A unique 8-digit number assigned by DEM to this Fire incident. | \n",
    "|  Call Date | Date & Time | Date the call is received at the 911 Dispatch Center. Used for reporting purposes. | \n",
    "| Call Type | Text | Type of call the incident falls into. See the list below. | \n",
    "| Watch Date | Date & Time | Watch date when the call is received. Watch date starts at 0800 each morning and ends at 0800 the next day. | \n",
    "| Received DtTm | Date & Time | Date and time of call is received at the 911 Dispatch Center. | \n",
    "| Entry DtTm | Date & Time | Date and time the 911 operator submits the entry of the initical call information into the CAD system | \n",
    "| Dispatch DtTm | Date & Time | Date and time the 911 operator dispatches this unit to the call. | \n",
    "| Response DtTm | Date & Time | Date and time this unit acknowledges the dispatch and records that the unit is en route to the location of the call. | \n",
    "| On Scene DtTm | Date & Time | Date and time the unit records arriving to the location of the incident | \n",
    "| AVL Validated On Scene DtTm | Date & Time | Updated date and time the unit arrived on scene based on existing unit AVL coordinates. | \n",
    "| Transport DtTm | Date & Time | If this unit is an ambulance, date and time the unit begins the transport unit arrives to hospital | \n",
    "| Hospital DtTm | Date & Time | If this unit is an ambulance, date and time the unit arrives to the hospital. | \n",
    "| Call Final Disposition | Text | Disposition of the call (Code). For example TH2: Transport to Hospital - Code 2, FIR: Resolved by Fire Department | \n",
    "| Available DtTm | Date & Time | Date and time this unit is not longer assigned to this call and it is available for another dispatch. | \n",
    "| Address | Text | Address of midblock point associated with incident (obfuscated address to protect caller privacy) | \n",
    "| City | Text | City of incident | \n",
    "| Zipcode of Incident | Text | Zipcode of incident | \n",
    "| Battalion | Text | Emergency Response District (There are 9 Fire Emergency Response Districts) | \n",
    "| Station Area | Text | Fire Station First Response Area associated with the address of the incident | \n",
    "| Box | Text | Fire box associated with the address of the incident. A box is the smallest area used to divide the City. Each box is associated with a unique unit dispatch order. The City is divided into more than 2,400 boxes. | \n",
    "| Original Priority | Text | Initial call priority (Code 2: Non-Emergency or Code 3:Emergency). | \n",
    "| Priority | Text | Call priority (Code 2: Non-Emergency or Code 3:Emergency). | \n",
    "| Final Priority | Text | Final call priority (Code 2: Non-Emergency or Code 3:Emergency). | \n",
    "| ALS Unit | Boolean (True/False) | Does this unit includes ALS (Advance Life Support) resources? Is there a paramedic in this unit? | \n",
    "| Call Type Group | Text | Call types are divided into four main groups: Fire, Alarm, Potential Life Threatening and Non Life Threatening. | \n",
    "| Number of Alarms | Numeric | Number of alarms associated with the incident. This is a number between 1 and 5. | \n",
    "| Unit Type | Text | Unit type | \n",
    "| Unit sequence in call dispatch | Numeric | A number that indicates the order this unit was assigned to this call | \n",
    "| Location | Coordinates | Latitude and longitude of address obfuscated either to the midblock, intersection or call box | \n",
    "| Fire Prevention District | Text | Bureau of Fire Prevention District associated with this address | \n",
    "| Supervisor District | Text | Supervisor District associated with this address | \n",
    "| Neighborhood District | Text | Neighborhood District associated with this address, boundaries available here: https://data.sfgov.org/d/p5b7-5n3h | \n",
    "| RowID | Text | Unique identifier used for managing data updates. It is the concatenation of Call Number and Unit ID separated by a dash | \n"
   ]
  },
  {
   "cell_type": "code",
   "execution_count": 1,
   "metadata": {},
   "outputs": [],
   "source": [
    "import pandas as pd\n",
    "import numpy as np\n",
    "import datetime\n",
    "import os\n",
    "\n",
    "import warnings\n",
    "warnings.filterwarnings('ignore')\n",
    "import matplotlib.pyplot as plt\n",
    "import seaborn as sns"
   ]
  },
  {
   "cell_type": "code",
   "execution_count": 2,
   "metadata": {},
   "outputs": [
    {
     "data": {
      "text/plain": [
       "'C:\\\\Users\\\\raven\\\\Desktop'"
      ]
     },
     "execution_count": 2,
     "metadata": {},
     "output_type": "execute_result"
    }
   ],
   "source": [
    "os.chdir('C:/Users/raven/Desktop')\n",
    "os.getcwd()"
   ]
  },
  {
   "cell_type": "code",
   "execution_count": 3,
   "metadata": {},
   "outputs": [
    {
     "data": {
      "text/html": [
       "<div>\n",
       "<style scoped>\n",
       "    .dataframe tbody tr th:only-of-type {\n",
       "        vertical-align: middle;\n",
       "    }\n",
       "\n",
       "    .dataframe tbody tr th {\n",
       "        vertical-align: top;\n",
       "    }\n",
       "\n",
       "    .dataframe thead th {\n",
       "        text-align: right;\n",
       "    }\n",
       "</style>\n",
       "<table border=\"1\" class=\"dataframe\">\n",
       "  <thead>\n",
       "    <tr style=\"text-align: right;\">\n",
       "      <th></th>\n",
       "      <th>Call Number</th>\n",
       "      <th>Unit ID</th>\n",
       "      <th>Incident Number</th>\n",
       "      <th>Call Type</th>\n",
       "      <th>Call Date</th>\n",
       "      <th>Watch Date</th>\n",
       "      <th>Received DtTm</th>\n",
       "      <th>Entry DtTm</th>\n",
       "      <th>Dispatch DtTm</th>\n",
       "      <th>Response DtTm</th>\n",
       "      <th>...</th>\n",
       "      <th>Unit Type</th>\n",
       "      <th>Unit sequence in call dispatch</th>\n",
       "      <th>Fire Prevention District</th>\n",
       "      <th>Supervisor District</th>\n",
       "      <th>Neighborhooods - Analysis Boundaries</th>\n",
       "      <th>RowID</th>\n",
       "      <th>case_location</th>\n",
       "      <th>data_as_of</th>\n",
       "      <th>data_loaded_at</th>\n",
       "      <th>Analysis Neighborhoods</th>\n",
       "    </tr>\n",
       "  </thead>\n",
       "  <tbody>\n",
       "    <tr>\n",
       "      <th>0</th>\n",
       "      <td>80670268</td>\n",
       "      <td>82</td>\n",
       "      <td>8020924</td>\n",
       "      <td>Medical Incident</td>\n",
       "      <td>03/07/2008</td>\n",
       "      <td>03/07/2008</td>\n",
       "      <td>03/07/2008 04:05:37 PM</td>\n",
       "      <td>03/07/2008 04:06:05 PM</td>\n",
       "      <td>03/07/2008 04:06:59 PM</td>\n",
       "      <td>NaN</td>\n",
       "      <td>...</td>\n",
       "      <td>MEDIC</td>\n",
       "      <td>1.0</td>\n",
       "      <td>3.0</td>\n",
       "      <td>6.0</td>\n",
       "      <td>Tenderloin</td>\n",
       "      <td>080670268-82</td>\n",
       "      <td>POINT (-122.408595110869 37.783706930155)</td>\n",
       "      <td>NaN</td>\n",
       "      <td>11/30/2023 09:35:04 AM</td>\n",
       "      <td>36.0</td>\n",
       "    </tr>\n",
       "    <tr>\n",
       "      <th>1</th>\n",
       "      <td>80380388</td>\n",
       "      <td>B08</td>\n",
       "      <td>8012119</td>\n",
       "      <td>Alarms</td>\n",
       "      <td>02/07/2008</td>\n",
       "      <td>02/07/2008</td>\n",
       "      <td>02/07/2008 10:03:52 PM</td>\n",
       "      <td>02/07/2008 10:05:51 PM</td>\n",
       "      <td>02/07/2008 10:05:56 PM</td>\n",
       "      <td>02/07/2008 10:07:10 PM</td>\n",
       "      <td>...</td>\n",
       "      <td>CHIEF</td>\n",
       "      <td>3.0</td>\n",
       "      <td>8.0</td>\n",
       "      <td>7.0</td>\n",
       "      <td>Lakeshore</td>\n",
       "      <td>080380388-B08</td>\n",
       "      <td>POINT (-122.477956520245 37.726931055875)</td>\n",
       "      <td>NaN</td>\n",
       "      <td>11/30/2023 09:35:04 AM</td>\n",
       "      <td>16.0</td>\n",
       "    </tr>\n",
       "    <tr>\n",
       "      <th>2</th>\n",
       "      <td>80140144</td>\n",
       "      <td>E33</td>\n",
       "      <td>8004586</td>\n",
       "      <td>Medical Incident</td>\n",
       "      <td>01/14/2008</td>\n",
       "      <td>01/14/2008</td>\n",
       "      <td>01/14/2008 11:16:19 AM</td>\n",
       "      <td>01/14/2008 11:17:02 AM</td>\n",
       "      <td>01/14/2008 11:17:28 AM</td>\n",
       "      <td>01/14/2008 11:17:42 AM</td>\n",
       "      <td>...</td>\n",
       "      <td>ENGINE</td>\n",
       "      <td>1.0</td>\n",
       "      <td>NaN</td>\n",
       "      <td>NaN</td>\n",
       "      <td>NaN</td>\n",
       "      <td>080140144-E33</td>\n",
       "      <td>POINT (-122.458070201117 37.707056853977)</td>\n",
       "      <td>NaN</td>\n",
       "      <td>11/30/2023 09:35:04 AM</td>\n",
       "      <td>NaN</td>\n",
       "    </tr>\n",
       "    <tr>\n",
       "      <th>3</th>\n",
       "      <td>81430195</td>\n",
       "      <td>93</td>\n",
       "      <td>8044077</td>\n",
       "      <td>Medical Incident</td>\n",
       "      <td>05/22/2008</td>\n",
       "      <td>05/22/2008</td>\n",
       "      <td>05/22/2008 11:20:59 AM</td>\n",
       "      <td>05/22/2008 11:21:49 AM</td>\n",
       "      <td>05/22/2008 11:22:52 AM</td>\n",
       "      <td>05/22/2008 11:23:17 AM</td>\n",
       "      <td>...</td>\n",
       "      <td>MEDIC</td>\n",
       "      <td>3.0</td>\n",
       "      <td>6.0</td>\n",
       "      <td>9.0</td>\n",
       "      <td>Mission</td>\n",
       "      <td>081430195-93</td>\n",
       "      <td>POINT (-122.419206043807 37.760235355933)</td>\n",
       "      <td>NaN</td>\n",
       "      <td>11/30/2023 09:35:04 AM</td>\n",
       "      <td>20.0</td>\n",
       "    </tr>\n",
       "    <tr>\n",
       "      <th>4</th>\n",
       "      <td>80820048</td>\n",
       "      <td>E16</td>\n",
       "      <td>8025231</td>\n",
       "      <td>Structure Fire</td>\n",
       "      <td>03/22/2008</td>\n",
       "      <td>03/21/2008</td>\n",
       "      <td>03/22/2008 03:55:53 AM</td>\n",
       "      <td>03/22/2008 03:57:23 AM</td>\n",
       "      <td>03/22/2008 03:57:34 AM</td>\n",
       "      <td>NaN</td>\n",
       "      <td>...</td>\n",
       "      <td>ENGINE</td>\n",
       "      <td>3.0</td>\n",
       "      <td>4.0</td>\n",
       "      <td>2.0</td>\n",
       "      <td>Marina</td>\n",
       "      <td>080820048-E16</td>\n",
       "      <td>POINT (-122.431093553081 37.800015392373)</td>\n",
       "      <td>NaN</td>\n",
       "      <td>11/30/2023 09:35:04 AM</td>\n",
       "      <td>13.0</td>\n",
       "    </tr>\n",
       "  </tbody>\n",
       "</table>\n",
       "<p>5 rows × 37 columns</p>\n",
       "</div>"
      ],
      "text/plain": [
       "   Call Number Unit ID  Incident Number         Call Type   Call Date  \\\n",
       "0     80670268      82          8020924  Medical Incident  03/07/2008   \n",
       "1     80380388     B08          8012119            Alarms  02/07/2008   \n",
       "2     80140144     E33          8004586  Medical Incident  01/14/2008   \n",
       "3     81430195      93          8044077  Medical Incident  05/22/2008   \n",
       "4     80820048     E16          8025231    Structure Fire  03/22/2008   \n",
       "\n",
       "   Watch Date           Received DtTm              Entry DtTm  \\\n",
       "0  03/07/2008  03/07/2008 04:05:37 PM  03/07/2008 04:06:05 PM   \n",
       "1  02/07/2008  02/07/2008 10:03:52 PM  02/07/2008 10:05:51 PM   \n",
       "2  01/14/2008  01/14/2008 11:16:19 AM  01/14/2008 11:17:02 AM   \n",
       "3  05/22/2008  05/22/2008 11:20:59 AM  05/22/2008 11:21:49 AM   \n",
       "4  03/21/2008  03/22/2008 03:55:53 AM  03/22/2008 03:57:23 AM   \n",
       "\n",
       "            Dispatch DtTm           Response DtTm  ... Unit Type  \\\n",
       "0  03/07/2008 04:06:59 PM                     NaN  ...     MEDIC   \n",
       "1  02/07/2008 10:05:56 PM  02/07/2008 10:07:10 PM  ...     CHIEF   \n",
       "2  01/14/2008 11:17:28 AM  01/14/2008 11:17:42 AM  ...    ENGINE   \n",
       "3  05/22/2008 11:22:52 AM  05/22/2008 11:23:17 AM  ...     MEDIC   \n",
       "4  03/22/2008 03:57:34 AM                     NaN  ...    ENGINE   \n",
       "\n",
       "  Unit sequence in call dispatch Fire Prevention District Supervisor District  \\\n",
       "0                            1.0                      3.0                 6.0   \n",
       "1                            3.0                      8.0                 7.0   \n",
       "2                            1.0                      NaN                 NaN   \n",
       "3                            3.0                      6.0                 9.0   \n",
       "4                            3.0                      4.0                 2.0   \n",
       "\n",
       "  Neighborhooods - Analysis Boundaries          RowID  \\\n",
       "0                           Tenderloin   080670268-82   \n",
       "1                            Lakeshore  080380388-B08   \n",
       "2                                  NaN  080140144-E33   \n",
       "3                              Mission   081430195-93   \n",
       "4                               Marina  080820048-E16   \n",
       "\n",
       "                               case_location  data_as_of  \\\n",
       "0  POINT (-122.408595110869 37.783706930155)         NaN   \n",
       "1  POINT (-122.477956520245 37.726931055875)         NaN   \n",
       "2  POINT (-122.458070201117 37.707056853977)         NaN   \n",
       "3  POINT (-122.419206043807 37.760235355933)         NaN   \n",
       "4  POINT (-122.431093553081 37.800015392373)         NaN   \n",
       "\n",
       "           data_loaded_at Analysis Neighborhoods  \n",
       "0  11/30/2023 09:35:04 AM                   36.0  \n",
       "1  11/30/2023 09:35:04 AM                   16.0  \n",
       "2  11/30/2023 09:35:04 AM                    NaN  \n",
       "3  11/30/2023 09:35:04 AM                   20.0  \n",
       "4  11/30/2023 09:35:04 AM                   13.0  \n",
       "\n",
       "[5 rows x 37 columns]"
      ]
     },
     "execution_count": 3,
     "metadata": {},
     "output_type": "execute_result"
    }
   ],
   "source": [
    "file = 'Data_Clean_Fire_Department_Calls_for_Service.csv'\n",
    "df = pd.read_csv(file)\n",
    "\n",
    "df.head()"
   ]
  },
  {
   "cell_type": "code",
   "execution_count": 4,
   "metadata": {},
   "outputs": [
    {
     "data": {
      "text/plain": [
       "Index(['Call Number', 'Unit ID', 'Incident Number', 'Call Type', 'Call Date',\n",
       "       'Watch Date', 'Received DtTm', 'Entry DtTm', 'Dispatch DtTm',\n",
       "       'Response DtTm', 'On Scene DtTm', 'Transport DtTm', 'Hospital DtTm',\n",
       "       'Call Final Disposition', 'Available DtTm', 'Address', 'City',\n",
       "       'Zipcode of Incident', 'Battalion', 'Station Area', 'Box',\n",
       "       'Original Priority', 'Priority', 'Final Priority', 'ALS Unit',\n",
       "       'Call Type Group', 'Number of Alarms', 'Unit Type',\n",
       "       'Unit sequence in call dispatch', 'Fire Prevention District',\n",
       "       'Supervisor District', 'Neighborhooods - Analysis Boundaries', 'RowID',\n",
       "       'case_location', 'data_as_of', 'data_loaded_at',\n",
       "       'Analysis Neighborhoods'],\n",
       "      dtype='object')"
      ]
     },
     "execution_count": 4,
     "metadata": {},
     "output_type": "execute_result"
    }
   ],
   "source": [
    "df.columns"
   ]
  },
  {
   "cell_type": "code",
   "execution_count": 5,
   "metadata": {},
   "outputs": [
    {
     "data": {
      "text/plain": [
       "(6474506, 37)"
      ]
     },
     "execution_count": 5,
     "metadata": {},
     "output_type": "execute_result"
    }
   ],
   "source": [
    "df.shape"
   ]
  },
  {
   "cell_type": "markdown",
   "metadata": {},
   "source": [
    "## Data Cleaning and Transformation\n",
    "\n",
    "- The data set is huge. \n",
    "- 6M + rows\n",
    "- Drop irrelevant columns"
   ]
  },
  {
   "cell_type": "code",
   "execution_count": 6,
   "metadata": {},
   "outputs": [],
   "source": [
    "df.drop(['Available DtTm', 'Entry DtTm', 'Call Date', 'Watch Date', 'Response DtTm', 'On Scene DtTm', 'Transport DtTm', 'Hospital DtTm', 'Address', 'Zipcode of Incident', 'Box', 'Original Priority', 'Priority', 'Final Priority', 'ALS Unit', 'Call Type Group', 'Number of Alarms', 'RowID', 'case_location', 'data_as_of', 'data_loaded_at','Analysis Neighborhoods'], axis = 1, inplace = True)"
   ]
  },
  {
   "cell_type": "code",
   "execution_count": 7,
   "metadata": {},
   "outputs": [
    {
     "name": "stdout",
     "output_type": "stream",
     "text": [
      "<class 'pandas.core.frame.DataFrame'>\n",
      "RangeIndex: 6474506 entries, 0 to 6474505\n",
      "Data columns (total 15 columns):\n",
      " #   Column                                Dtype  \n",
      "---  ------                                -----  \n",
      " 0   Call Number                           int64  \n",
      " 1   Unit ID                               object \n",
      " 2   Incident Number                       int64  \n",
      " 3   Call Type                             object \n",
      " 4   Received DtTm                         object \n",
      " 5   Dispatch DtTm                         object \n",
      " 6   Call Final Disposition                object \n",
      " 7   City                                  object \n",
      " 8   Battalion                             object \n",
      " 9   Station Area                          object \n",
      " 10  Unit Type                             object \n",
      " 11  Unit sequence in call dispatch        float64\n",
      " 12  Fire Prevention District              float64\n",
      " 13  Supervisor District                   float64\n",
      " 14  Neighborhooods - Analysis Boundaries  object \n",
      "dtypes: float64(3), int64(2), object(10)\n",
      "memory usage: 740.9+ MB\n"
     ]
    }
   ],
   "source": [
    "df.info()"
   ]
  },
  {
   "cell_type": "code",
   "execution_count": 8,
   "metadata": {},
   "outputs": [],
   "source": [
    "#df.head().to_csv('head.csv')"
   ]
  },
  {
   "cell_type": "markdown",
   "metadata": {},
   "source": [
    "### Data Validation: Duplicates\n",
    "\n",
    "- No Double Counting\n",
    "-  Duplicate Check"
   ]
  },
  {
   "cell_type": "code",
   "execution_count": 9,
   "metadata": {},
   "outputs": [
    {
     "name": "stdout",
     "output_type": "stream",
     "text": [
      "False\n"
     ]
    }
   ],
   "source": [
    "print(df.duplicated().values.any() == True)"
   ]
  },
  {
   "cell_type": "markdown",
   "metadata": {},
   "source": [
    "- No rows are unique\n",
    "- Not good enough\n",
    "- Verify by subsetting the unique ID's: 'Call Number', 'Unit ID', 'Incident Number'"
   ]
  },
  {
   "cell_type": "code",
   "execution_count": 10,
   "metadata": {},
   "outputs": [
    {
     "name": "stdout",
     "output_type": "stream",
     "text": [
      "False\n",
      "False\n",
      "False\n",
      "True\n"
     ]
    }
   ],
   "source": [
    "print(df.duplicated(subset = ['Call Number', 'Unit ID', 'Incident Number']).values.any())\n",
    "print(df.duplicated(subset = ['Unit ID', 'Incident Number']).values.any())\n",
    "print(df.duplicated(subset = ['Call Number', 'Unit ID']).values.any())\n",
    "print(df.duplicated(subset = ['Call Number', 'Incident Number']).values.any())"
   ]
  },
  {
   "cell_type": "markdown",
   "metadata": {},
   "source": [
    "No duplicates were found containing all 3 unique identifiers. \n",
    "\n",
    "Call Number and Incident Number did have duplicates."
   ]
  },
  {
   "cell_type": "code",
   "execution_count": 11,
   "metadata": {},
   "outputs": [
    {
     "name": "stdout",
     "output_type": "stream",
     "text": [
      "Duplicate Row Count: 3491402\n"
     ]
    }
   ],
   "source": [
    "print( \"Duplicate Row Count: \" + str(pd.DataFrame(df[df.duplicated(subset = ['Call Number', 'Incident Number'])]).shape[0]))"
   ]
  },
  {
   "cell_type": "markdown",
   "metadata": {},
   "source": [
    "#### 349,000 duplicates. What's going on?\n",
    "\n"
   ]
  },
  {
   "cell_type": "code",
   "execution_count": 12,
   "metadata": {},
   "outputs": [
    {
     "data": {
      "text/html": [
       "<div>\n",
       "<style scoped>\n",
       "    .dataframe tbody tr th:only-of-type {\n",
       "        vertical-align: middle;\n",
       "    }\n",
       "\n",
       "    .dataframe tbody tr th {\n",
       "        vertical-align: top;\n",
       "    }\n",
       "\n",
       "    .dataframe thead th {\n",
       "        text-align: right;\n",
       "    }\n",
       "</style>\n",
       "<table border=\"1\" class=\"dataframe\">\n",
       "  <thead>\n",
       "    <tr style=\"text-align: right;\">\n",
       "      <th></th>\n",
       "      <th>Call Number</th>\n",
       "      <th>Unit ID</th>\n",
       "      <th>Incident Number</th>\n",
       "      <th>Call Type</th>\n",
       "      <th>Received DtTm</th>\n",
       "      <th>Dispatch DtTm</th>\n",
       "      <th>Call Final Disposition</th>\n",
       "      <th>City</th>\n",
       "      <th>Battalion</th>\n",
       "      <th>Station Area</th>\n",
       "      <th>Unit Type</th>\n",
       "      <th>Unit sequence in call dispatch</th>\n",
       "      <th>Fire Prevention District</th>\n",
       "      <th>Supervisor District</th>\n",
       "      <th>Neighborhooods - Analysis Boundaries</th>\n",
       "    </tr>\n",
       "  </thead>\n",
       "  <tbody>\n",
       "    <tr>\n",
       "      <th>3478328</th>\n",
       "      <td>1030101</td>\n",
       "      <td>M12</td>\n",
       "      <td>306091</td>\n",
       "      <td>Medical Incident</td>\n",
       "      <td>04/12/2000 09:00:29 PM</td>\n",
       "      <td>04/12/2000 09:02:00 PM</td>\n",
       "      <td>Other</td>\n",
       "      <td>SF</td>\n",
       "      <td>B08</td>\n",
       "      <td>18</td>\n",
       "      <td>MEDIC</td>\n",
       "      <td>2.0</td>\n",
       "      <td>8.0</td>\n",
       "      <td>4.0</td>\n",
       "      <td>Sunset/Parkside</td>\n",
       "    </tr>\n",
       "    <tr>\n",
       "      <th>3512605</th>\n",
       "      <td>1030104</td>\n",
       "      <td>M14</td>\n",
       "      <td>30612</td>\n",
       "      <td>Medical Incident</td>\n",
       "      <td>04/12/2000 09:09:02 PM</td>\n",
       "      <td>04/12/2000 09:10:29 PM</td>\n",
       "      <td>Other</td>\n",
       "      <td>SF</td>\n",
       "      <td>B08</td>\n",
       "      <td>23.0</td>\n",
       "      <td>MEDIC</td>\n",
       "      <td>2.0</td>\n",
       "      <td>8.0</td>\n",
       "      <td>4.0</td>\n",
       "      <td>Sunset/Parkside</td>\n",
       "    </tr>\n",
       "    <tr>\n",
       "      <th>3463036</th>\n",
       "      <td>1030107</td>\n",
       "      <td>E01</td>\n",
       "      <td>30615</td>\n",
       "      <td>Alarms</td>\n",
       "      <td>04/12/2000 09:13:47 PM</td>\n",
       "      <td>04/12/2000 09:14:13 PM</td>\n",
       "      <td>Other</td>\n",
       "      <td>SF</td>\n",
       "      <td>B03</td>\n",
       "      <td>01</td>\n",
       "      <td>ENGINE</td>\n",
       "      <td>3.0</td>\n",
       "      <td>3.0</td>\n",
       "      <td>6.0</td>\n",
       "      <td>Tenderloin</td>\n",
       "    </tr>\n",
       "    <tr>\n",
       "      <th>3509241</th>\n",
       "      <td>1030107</td>\n",
       "      <td>T01</td>\n",
       "      <td>30615</td>\n",
       "      <td>Alarms</td>\n",
       "      <td>04/12/2000 09:13:47 PM</td>\n",
       "      <td>04/12/2000 09:14:13 PM</td>\n",
       "      <td>Other</td>\n",
       "      <td>SF</td>\n",
       "      <td>B03</td>\n",
       "      <td>1.0</td>\n",
       "      <td>TRUCK</td>\n",
       "      <td>1.0</td>\n",
       "      <td>3.0</td>\n",
       "      <td>6.0</td>\n",
       "      <td>Tenderloin</td>\n",
       "    </tr>\n",
       "    <tr>\n",
       "      <th>3546027</th>\n",
       "      <td>1030108</td>\n",
       "      <td>M01</td>\n",
       "      <td>30616</td>\n",
       "      <td>Medical Incident</td>\n",
       "      <td>04/12/2000 09:14:43 PM</td>\n",
       "      <td>04/12/2000 09:16:24 PM</td>\n",
       "      <td>Other</td>\n",
       "      <td>SF</td>\n",
       "      <td>B03</td>\n",
       "      <td>1</td>\n",
       "      <td>MEDIC</td>\n",
       "      <td>1.0</td>\n",
       "      <td>1.0</td>\n",
       "      <td>3.0</td>\n",
       "      <td>Financial District/South Beach</td>\n",
       "    </tr>\n",
       "  </tbody>\n",
       "</table>\n",
       "</div>"
      ],
      "text/plain": [
       "         Call Number Unit ID  Incident Number         Call Type  \\\n",
       "3478328      1030101     M12           306091  Medical Incident   \n",
       "3512605      1030104     M14            30612  Medical Incident   \n",
       "3463036      1030107     E01            30615            Alarms   \n",
       "3509241      1030107     T01            30615            Alarms   \n",
       "3546027      1030108     M01            30616  Medical Incident   \n",
       "\n",
       "                  Received DtTm           Dispatch DtTm  \\\n",
       "3478328  04/12/2000 09:00:29 PM  04/12/2000 09:02:00 PM   \n",
       "3512605  04/12/2000 09:09:02 PM  04/12/2000 09:10:29 PM   \n",
       "3463036  04/12/2000 09:13:47 PM  04/12/2000 09:14:13 PM   \n",
       "3509241  04/12/2000 09:13:47 PM  04/12/2000 09:14:13 PM   \n",
       "3546027  04/12/2000 09:14:43 PM  04/12/2000 09:16:24 PM   \n",
       "\n",
       "        Call Final Disposition City Battalion Station Area Unit Type  \\\n",
       "3478328                  Other   SF       B08           18     MEDIC   \n",
       "3512605                  Other   SF       B08         23.0     MEDIC   \n",
       "3463036                  Other   SF       B03           01    ENGINE   \n",
       "3509241                  Other   SF       B03          1.0     TRUCK   \n",
       "3546027                  Other   SF       B03            1     MEDIC   \n",
       "\n",
       "         Unit sequence in call dispatch  Fire Prevention District  \\\n",
       "3478328                             2.0                       8.0   \n",
       "3512605                             2.0                       8.0   \n",
       "3463036                             3.0                       3.0   \n",
       "3509241                             1.0                       3.0   \n",
       "3546027                             1.0                       1.0   \n",
       "\n",
       "         Supervisor District Neighborhooods - Analysis Boundaries  \n",
       "3478328                  4.0                      Sunset/Parkside  \n",
       "3512605                  4.0                      Sunset/Parkside  \n",
       "3463036                  6.0                           Tenderloin  \n",
       "3509241                  6.0                           Tenderloin  \n",
       "3546027                  3.0       Financial District/South Beach  "
      ]
     },
     "execution_count": 12,
     "metadata": {},
     "output_type": "execute_result"
    }
   ],
   "source": [
    "pd.DataFrame(df[df.duplicated(subset = ['Call Number', 'Incident Number'])]).sort_values(by='Call Number').head()"
   ]
  },
  {
   "cell_type": "markdown",
   "metadata": {},
   "source": [
    "#### Answer: Dual Classification for separate vehicle types\n",
    "\n",
    "Notice the 3rd and 4th row above: \n",
    "- Same call\n",
    "- Same timestamps: Received, entry, and dispatch\n",
    "- Separate Unit ID ->  Unit ID: T01 == Unit Type: Truck\n",
    "\n"
   ]
  },
  {
   "cell_type": "markdown",
   "metadata": {},
   "source": [
    "### 2 Options: \n",
    "1. Remove duplicates and focus with the same 'Call Number' and 'Incident Number'\n",
    "   -  Remove unit identifiers: 'Unit ID', 'Unit Type', 'Unit Sequence' \n",
    "2. Include all vehicles as part on the analysis\n",
    "   - imbalanced call weighting, but accounts for all vehicles\n",
    "\n",
    "Call-to-Dispatch Time is the focus of the analysis: **Option 1** is selected\n",
    "\n",
    "- remove duplicates\n",
    "- remove Unit Fields"
   ]
  },
  {
   "cell_type": "code",
   "execution_count": 13,
   "metadata": {},
   "outputs": [],
   "source": [
    "#Drop the duplicates & the Unit columns\n",
    "df = df.drop_duplicates(subset = ['Call Number', 'Incident Number'], keep='first').drop(['Unit ID','Unit Type','Unit sequence in call dispatch'], axis = 1)"
   ]
  },
  {
   "cell_type": "code",
   "execution_count": 14,
   "metadata": {},
   "outputs": [
    {
     "data": {
      "text/plain": [
       "(2983104, 10)"
      ]
     },
     "execution_count": 14,
     "metadata": {},
     "output_type": "execute_result"
    }
   ],
   "source": [
    "# Drop the unique identifiers\n",
    "df.drop(['Call Number', 'Incident Number'], axis = 1, inplace = True)\n",
    "\n",
    "# See DataFrame Row x Column Count\n",
    "df.shape"
   ]
  },
  {
   "cell_type": "code",
   "execution_count": 15,
   "metadata": {},
   "outputs": [
    {
     "data": {
      "text/plain": [
       "Index(['Call Type', 'Received DtTm', 'Dispatch DtTm', 'Call Final Disposition',\n",
       "       'City', 'Battalion', 'Station Area', 'Fire Prevention District',\n",
       "       'Supervisor District', 'Neighborhooods - Analysis Boundaries'],\n",
       "      dtype='object')"
      ]
     },
     "execution_count": 15,
     "metadata": {},
     "output_type": "execute_result"
    }
   ],
   "source": [
    "df.columns"
   ]
  },
  {
   "cell_type": "markdown",
   "metadata": {},
   "source": [
    "### Data Validation: Missing Values"
   ]
  },
  {
   "cell_type": "code",
   "execution_count": 16,
   "metadata": {},
   "outputs": [
    {
     "name": "stdout",
     "output_type": "stream",
     "text": [
      "True\n"
     ]
    }
   ],
   "source": [
    "print(df.isnull().values.any() == True)"
   ]
  },
  {
   "cell_type": "code",
   "execution_count": 17,
   "metadata": {},
   "outputs": [
    {
     "data": {
      "text/plain": [
       "Call Type                                   0\n",
       "Received DtTm                               0\n",
       "Dispatch DtTm                               0\n",
       "Call Final Disposition                      0\n",
       "City                                     4898\n",
       "Battalion                                   0\n",
       "Station Area                             1166\n",
       "Fire Prevention District                28475\n",
       "Supervisor District                     11969\n",
       "Neighborhooods - Analysis Boundaries    12260\n",
       "dtype: int64"
      ]
     },
     "execution_count": 17,
     "metadata": {},
     "output_type": "execute_result"
    }
   ],
   "source": [
    "# Which columns have missing values\n",
    "\n",
    "df.isna().sum()"
   ]
  },
  {
   "cell_type": "markdown",
   "metadata": {},
   "source": [
    "#### Dispatch time is unaffected"
   ]
  },
  {
   "cell_type": "code",
   "execution_count": 18,
   "metadata": {},
   "outputs": [
    {
     "name": "stdout",
     "output_type": "stream",
     "text": [
      "<class 'pandas.core.frame.DataFrame'>\n",
      "Index: 2983104 entries, 0 to 6474495\n",
      "Data columns (total 10 columns):\n",
      " #   Column                                Dtype  \n",
      "---  ------                                -----  \n",
      " 0   Call Type                             object \n",
      " 1   Received DtTm                         object \n",
      " 2   Dispatch DtTm                         object \n",
      " 3   Call Final Disposition                object \n",
      " 4   City                                  object \n",
      " 5   Battalion                             object \n",
      " 6   Station Area                          object \n",
      " 7   Fire Prevention District              float64\n",
      " 8   Supervisor District                   float64\n",
      " 9   Neighborhooods - Analysis Boundaries  object \n",
      "dtypes: float64(2), object(8)\n",
      "memory usage: 250.4+ MB\n"
     ]
    }
   ],
   "source": [
    "df.info()"
   ]
  },
  {
   "cell_type": "markdown",
   "metadata": {},
   "source": [
    "### Data Validation: Date Time Conversions"
   ]
  },
  {
   "cell_type": "code",
   "execution_count": 19,
   "metadata": {},
   "outputs": [],
   "source": [
    "df['Received DtTm']= pd.to_datetime(df['Received DtTm'], format = '%m/%d/%Y %I:%M:%S %p')\n"
   ]
  },
  {
   "cell_type": "code",
   "execution_count": 20,
   "metadata": {},
   "outputs": [],
   "source": [
    "df['Dispatch DtTm']= pd.to_datetime(df['Dispatch DtTm'], format ='%m/%d/%Y %I:%M:%S %p')"
   ]
  },
  {
   "cell_type": "code",
   "execution_count": 21,
   "metadata": {},
   "outputs": [
    {
     "name": "stdout",
     "output_type": "stream",
     "text": [
      "<class 'pandas.core.frame.DataFrame'>\n",
      "Index: 2983104 entries, 0 to 6474495\n",
      "Data columns (total 10 columns):\n",
      " #   Column                                Dtype         \n",
      "---  ------                                -----         \n",
      " 0   Call Type                             object        \n",
      " 1   Received DtTm                         datetime64[ns]\n",
      " 2   Dispatch DtTm                         datetime64[ns]\n",
      " 3   Call Final Disposition                object        \n",
      " 4   City                                  object        \n",
      " 5   Battalion                             object        \n",
      " 6   Station Area                          object        \n",
      " 7   Fire Prevention District              float64       \n",
      " 8   Supervisor District                   float64       \n",
      " 9   Neighborhooods - Analysis Boundaries  object        \n",
      "dtypes: datetime64[ns](2), float64(2), object(6)\n",
      "memory usage: 250.4+ MB\n"
     ]
    }
   ],
   "source": [
    "df.info()"
   ]
  },
  {
   "cell_type": "markdown",
   "metadata": {},
   "source": [
    "### Data Transformation: Create Dispatch Time Column in Seconds\n",
    "- Dispatch Timestamp - Received Timestamp"
   ]
  },
  {
   "cell_type": "code",
   "execution_count": 22,
   "metadata": {},
   "outputs": [
    {
     "data": {
      "text/html": [
       "<div>\n",
       "<style scoped>\n",
       "    .dataframe tbody tr th:only-of-type {\n",
       "        vertical-align: middle;\n",
       "    }\n",
       "\n",
       "    .dataframe tbody tr th {\n",
       "        vertical-align: top;\n",
       "    }\n",
       "\n",
       "    .dataframe thead th {\n",
       "        text-align: right;\n",
       "    }\n",
       "</style>\n",
       "<table border=\"1\" class=\"dataframe\">\n",
       "  <thead>\n",
       "    <tr style=\"text-align: right;\">\n",
       "      <th></th>\n",
       "      <th>Call Type</th>\n",
       "      <th>Received DtTm</th>\n",
       "      <th>Dispatch DtTm</th>\n",
       "      <th>Call Final Disposition</th>\n",
       "      <th>City</th>\n",
       "      <th>Battalion</th>\n",
       "      <th>Station Area</th>\n",
       "      <th>Fire Prevention District</th>\n",
       "      <th>Supervisor District</th>\n",
       "      <th>Neighborhooods - Analysis Boundaries</th>\n",
       "      <th>dispatch_seconds</th>\n",
       "    </tr>\n",
       "  </thead>\n",
       "  <tbody>\n",
       "    <tr>\n",
       "      <th>0</th>\n",
       "      <td>Medical Incident</td>\n",
       "      <td>2008-03-07 16:05:37</td>\n",
       "      <td>2008-03-07 16:06:59</td>\n",
       "      <td>SFPD</td>\n",
       "      <td>SF</td>\n",
       "      <td>B03</td>\n",
       "      <td>1.0</td>\n",
       "      <td>3.0</td>\n",
       "      <td>6.0</td>\n",
       "      <td>Tenderloin</td>\n",
       "      <td>82.0</td>\n",
       "    </tr>\n",
       "    <tr>\n",
       "      <th>1</th>\n",
       "      <td>Alarms</td>\n",
       "      <td>2008-02-07 22:03:52</td>\n",
       "      <td>2008-02-07 22:05:56</td>\n",
       "      <td>Other</td>\n",
       "      <td>SF</td>\n",
       "      <td>B08</td>\n",
       "      <td>19.0</td>\n",
       "      <td>8.0</td>\n",
       "      <td>7.0</td>\n",
       "      <td>Lakeshore</td>\n",
       "      <td>124.0</td>\n",
       "    </tr>\n",
       "    <tr>\n",
       "      <th>2</th>\n",
       "      <td>Medical Incident</td>\n",
       "      <td>2008-01-14 11:16:19</td>\n",
       "      <td>2008-01-14 11:17:28</td>\n",
       "      <td>Other</td>\n",
       "      <td>DC</td>\n",
       "      <td>B09</td>\n",
       "      <td>33.0</td>\n",
       "      <td>NaN</td>\n",
       "      <td>NaN</td>\n",
       "      <td>NaN</td>\n",
       "      <td>69.0</td>\n",
       "    </tr>\n",
       "    <tr>\n",
       "      <th>3</th>\n",
       "      <td>Medical Incident</td>\n",
       "      <td>2008-05-22 11:20:59</td>\n",
       "      <td>2008-05-22 11:22:52</td>\n",
       "      <td>Other</td>\n",
       "      <td>SF</td>\n",
       "      <td>B06</td>\n",
       "      <td>7.0</td>\n",
       "      <td>6.0</td>\n",
       "      <td>9.0</td>\n",
       "      <td>Mission</td>\n",
       "      <td>113.0</td>\n",
       "    </tr>\n",
       "    <tr>\n",
       "      <th>4</th>\n",
       "      <td>Structure Fire</td>\n",
       "      <td>2008-03-22 03:55:53</td>\n",
       "      <td>2008-03-22 03:57:34</td>\n",
       "      <td>Other</td>\n",
       "      <td>SF</td>\n",
       "      <td>B04</td>\n",
       "      <td>16.0</td>\n",
       "      <td>4.0</td>\n",
       "      <td>2.0</td>\n",
       "      <td>Marina</td>\n",
       "      <td>101.0</td>\n",
       "    </tr>\n",
       "  </tbody>\n",
       "</table>\n",
       "</div>"
      ],
      "text/plain": [
       "          Call Type       Received DtTm       Dispatch DtTm  \\\n",
       "0  Medical Incident 2008-03-07 16:05:37 2008-03-07 16:06:59   \n",
       "1            Alarms 2008-02-07 22:03:52 2008-02-07 22:05:56   \n",
       "2  Medical Incident 2008-01-14 11:16:19 2008-01-14 11:17:28   \n",
       "3  Medical Incident 2008-05-22 11:20:59 2008-05-22 11:22:52   \n",
       "4    Structure Fire 2008-03-22 03:55:53 2008-03-22 03:57:34   \n",
       "\n",
       "  Call Final Disposition City Battalion Station Area  \\\n",
       "0                   SFPD   SF       B03          1.0   \n",
       "1                  Other   SF       B08         19.0   \n",
       "2                  Other   DC       B09         33.0   \n",
       "3                  Other   SF       B06          7.0   \n",
       "4                  Other   SF       B04         16.0   \n",
       "\n",
       "   Fire Prevention District  Supervisor District  \\\n",
       "0                       3.0                  6.0   \n",
       "1                       8.0                  7.0   \n",
       "2                       NaN                  NaN   \n",
       "3                       6.0                  9.0   \n",
       "4                       4.0                  2.0   \n",
       "\n",
       "  Neighborhooods - Analysis Boundaries  dispatch_seconds  \n",
       "0                           Tenderloin              82.0  \n",
       "1                            Lakeshore             124.0  \n",
       "2                                  NaN              69.0  \n",
       "3                              Mission             113.0  \n",
       "4                               Marina             101.0  "
      ]
     },
     "execution_count": 22,
     "metadata": {},
     "output_type": "execute_result"
    }
   ],
   "source": [
    "df['dispatch_seconds'] = (df['Dispatch DtTm'] - df['Received DtTm']).dt.total_seconds()\n",
    "df.head()"
   ]
  },
  {
   "cell_type": "code",
   "execution_count": 23,
   "metadata": {},
   "outputs": [
    {
     "data": {
      "text/plain": [
       "count    2.983104e+06\n",
       "mean     1.466500e+02\n",
       "std      1.090522e+03\n",
       "min     -1.798010e+05\n",
       "25%      6.600000e+01\n",
       "50%      1.150000e+02\n",
       "75%      1.760000e+02\n",
       "max      9.944600e+04\n",
       "Name: dispatch_seconds, dtype: float64"
      ]
     },
     "execution_count": 23,
     "metadata": {},
     "output_type": "execute_result"
    }
   ],
   "source": [
    "df['dispatch_seconds'].describe()"
   ]
  },
  {
   "cell_type": "markdown",
   "metadata": {},
   "source": [
    "### Minimum values below 0 make no sense\n",
    "- You can't talk for negative minnutes"
   ]
  },
  {
   "cell_type": "code",
   "execution_count": 24,
   "metadata": {},
   "outputs": [
    {
     "name": "stdout",
     "output_type": "stream",
     "text": [
      "Count of Negative call records: 237\n"
     ]
    }
   ],
   "source": [
    "print(\"Count of Negative call records: \" + str(df[df['dispatch_seconds']<0].shape[0]))"
   ]
  },
  {
   "cell_type": "code",
   "execution_count": 25,
   "metadata": {},
   "outputs": [
    {
     "data": {
      "text/html": [
       "<div>\n",
       "<style scoped>\n",
       "    .dataframe tbody tr th:only-of-type {\n",
       "        vertical-align: middle;\n",
       "    }\n",
       "\n",
       "    .dataframe tbody tr th {\n",
       "        vertical-align: top;\n",
       "    }\n",
       "\n",
       "    .dataframe thead th {\n",
       "        text-align: right;\n",
       "    }\n",
       "</style>\n",
       "<table border=\"1\" class=\"dataframe\">\n",
       "  <thead>\n",
       "    <tr style=\"text-align: right;\">\n",
       "      <th></th>\n",
       "      <th>Call Type</th>\n",
       "      <th>Received DtTm</th>\n",
       "      <th>Dispatch DtTm</th>\n",
       "      <th>Call Final Disposition</th>\n",
       "      <th>City</th>\n",
       "      <th>Battalion</th>\n",
       "      <th>Station Area</th>\n",
       "      <th>Fire Prevention District</th>\n",
       "      <th>Supervisor District</th>\n",
       "      <th>Neighborhooods - Analysis Boundaries</th>\n",
       "      <th>dispatch_seconds</th>\n",
       "    </tr>\n",
       "  </thead>\n",
       "  <tbody>\n",
       "    <tr>\n",
       "      <th>0</th>\n",
       "      <td>Medical Incident</td>\n",
       "      <td>2008-03-07 16:05:37</td>\n",
       "      <td>2008-03-07 16:06:59</td>\n",
       "      <td>SFPD</td>\n",
       "      <td>SF</td>\n",
       "      <td>B03</td>\n",
       "      <td>1.0</td>\n",
       "      <td>3.0</td>\n",
       "      <td>6.0</td>\n",
       "      <td>Tenderloin</td>\n",
       "      <td>82.0</td>\n",
       "    </tr>\n",
       "    <tr>\n",
       "      <th>1</th>\n",
       "      <td>Alarms</td>\n",
       "      <td>2008-02-07 22:03:52</td>\n",
       "      <td>2008-02-07 22:05:56</td>\n",
       "      <td>Other</td>\n",
       "      <td>SF</td>\n",
       "      <td>B08</td>\n",
       "      <td>19.0</td>\n",
       "      <td>8.0</td>\n",
       "      <td>7.0</td>\n",
       "      <td>Lakeshore</td>\n",
       "      <td>124.0</td>\n",
       "    </tr>\n",
       "    <tr>\n",
       "      <th>2</th>\n",
       "      <td>Medical Incident</td>\n",
       "      <td>2008-01-14 11:16:19</td>\n",
       "      <td>2008-01-14 11:17:28</td>\n",
       "      <td>Other</td>\n",
       "      <td>DC</td>\n",
       "      <td>B09</td>\n",
       "      <td>33.0</td>\n",
       "      <td>NaN</td>\n",
       "      <td>NaN</td>\n",
       "      <td>NaN</td>\n",
       "      <td>69.0</td>\n",
       "    </tr>\n",
       "    <tr>\n",
       "      <th>3</th>\n",
       "      <td>Medical Incident</td>\n",
       "      <td>2008-05-22 11:20:59</td>\n",
       "      <td>2008-05-22 11:22:52</td>\n",
       "      <td>Other</td>\n",
       "      <td>SF</td>\n",
       "      <td>B06</td>\n",
       "      <td>7.0</td>\n",
       "      <td>6.0</td>\n",
       "      <td>9.0</td>\n",
       "      <td>Mission</td>\n",
       "      <td>113.0</td>\n",
       "    </tr>\n",
       "    <tr>\n",
       "      <th>4</th>\n",
       "      <td>Structure Fire</td>\n",
       "      <td>2008-03-22 03:55:53</td>\n",
       "      <td>2008-03-22 03:57:34</td>\n",
       "      <td>Other</td>\n",
       "      <td>SF</td>\n",
       "      <td>B04</td>\n",
       "      <td>16.0</td>\n",
       "      <td>4.0</td>\n",
       "      <td>2.0</td>\n",
       "      <td>Marina</td>\n",
       "      <td>101.0</td>\n",
       "    </tr>\n",
       "  </tbody>\n",
       "</table>\n",
       "</div>"
      ],
      "text/plain": [
       "          Call Type       Received DtTm       Dispatch DtTm  \\\n",
       "0  Medical Incident 2008-03-07 16:05:37 2008-03-07 16:06:59   \n",
       "1            Alarms 2008-02-07 22:03:52 2008-02-07 22:05:56   \n",
       "2  Medical Incident 2008-01-14 11:16:19 2008-01-14 11:17:28   \n",
       "3  Medical Incident 2008-05-22 11:20:59 2008-05-22 11:22:52   \n",
       "4    Structure Fire 2008-03-22 03:55:53 2008-03-22 03:57:34   \n",
       "\n",
       "  Call Final Disposition City Battalion Station Area  \\\n",
       "0                   SFPD   SF       B03          1.0   \n",
       "1                  Other   SF       B08         19.0   \n",
       "2                  Other   DC       B09         33.0   \n",
       "3                  Other   SF       B06          7.0   \n",
       "4                  Other   SF       B04         16.0   \n",
       "\n",
       "   Fire Prevention District  Supervisor District  \\\n",
       "0                       3.0                  6.0   \n",
       "1                       8.0                  7.0   \n",
       "2                       NaN                  NaN   \n",
       "3                       6.0                  9.0   \n",
       "4                       4.0                  2.0   \n",
       "\n",
       "  Neighborhooods - Analysis Boundaries  dispatch_seconds  \n",
       "0                           Tenderloin              82.0  \n",
       "1                            Lakeshore             124.0  \n",
       "2                                  NaN              69.0  \n",
       "3                              Mission             113.0  \n",
       "4                               Marina             101.0  "
      ]
     },
     "execution_count": 25,
     "metadata": {},
     "output_type": "execute_result"
    }
   ],
   "source": [
    "# remove the invalid records\n",
    "df = df[df['dispatch_seconds']>0]\n",
    "df.head()"
   ]
  },
  {
   "cell_type": "markdown",
   "metadata": {},
   "source": [
    "## Export CSV for Later BI Tool Use"
   ]
  },
  {
   "cell_type": "code",
   "execution_count": 26,
   "metadata": {},
   "outputs": [],
   "source": [
    "df.to_csv('df_final.csv')"
   ]
  },
  {
   "cell_type": "markdown",
   "metadata": {},
   "source": [
    "## Examine Qualitative Categorical Variables without Missing Values"
   ]
  },
  {
   "cell_type": "code",
   "execution_count": 27,
   "metadata": {},
   "outputs": [],
   "source": [
    "# Fields without missing values\n",
    "groups = ['Call Type', 'Call Final Disposition', 'Battalion']"
   ]
  },
  {
   "cell_type": "code",
   "execution_count": 28,
   "metadata": {},
   "outputs": [
    {
     "name": "stdout",
     "output_type": "stream",
     "text": [
      "Unique Value Count of Call Type: \n",
      " 33 \n",
      "\n",
      "Unique Value Count of Call Final Disposition: \n",
      " 15 \n",
      "\n",
      "Unique Value Count of Battalion: \n",
      " 12 \n",
      "\n"
     ]
    }
   ],
   "source": [
    "for g in groups:\n",
    "    print(f'Unique Value Count of {g}: \\n {df[g].nunique()} \\n')"
   ]
  },
  {
   "cell_type": "code",
   "execution_count": 29,
   "metadata": {},
   "outputs": [
    {
     "data": {
      "text/html": [
       "<div>\n",
       "<style scoped>\n",
       "    .dataframe tbody tr th:only-of-type {\n",
       "        vertical-align: middle;\n",
       "    }\n",
       "\n",
       "    .dataframe tbody tr th {\n",
       "        vertical-align: top;\n",
       "    }\n",
       "\n",
       "    .dataframe thead th {\n",
       "        text-align: right;\n",
       "    }\n",
       "</style>\n",
       "<table border=\"1\" class=\"dataframe\">\n",
       "  <thead>\n",
       "    <tr style=\"text-align: right;\">\n",
       "      <th></th>\n",
       "      <th>Call Type</th>\n",
       "      <th>mean</th>\n",
       "      <th>median</th>\n",
       "      <th>sum</th>\n",
       "      <th>std</th>\n",
       "      <th>max</th>\n",
       "      <th>min</th>\n",
       "    </tr>\n",
       "  </thead>\n",
       "  <tbody>\n",
       "    <tr>\n",
       "      <th>0</th>\n",
       "      <td>Administrative</td>\n",
       "      <td>2279.851064</td>\n",
       "      <td>184.0</td>\n",
       "      <td>107153.0</td>\n",
       "      <td>6247.647477</td>\n",
       "      <td>30257.0</td>\n",
       "      <td>1.0</td>\n",
       "    </tr>\n",
       "    <tr>\n",
       "      <th>1</th>\n",
       "      <td>Aircraft Emergency</td>\n",
       "      <td>225.220588</td>\n",
       "      <td>107.0</td>\n",
       "      <td>30630.0</td>\n",
       "      <td>1056.256925</td>\n",
       "      <td>12374.0</td>\n",
       "      <td>15.0</td>\n",
       "    </tr>\n",
       "    <tr>\n",
       "      <th>2</th>\n",
       "      <td>Alarms</td>\n",
       "      <td>116.638162</td>\n",
       "      <td>103.0</td>\n",
       "      <td>28125310.0</td>\n",
       "      <td>110.811119</td>\n",
       "      <td>14389.0</td>\n",
       "      <td>1.0</td>\n",
       "    </tr>\n",
       "    <tr>\n",
       "      <th>3</th>\n",
       "      <td>Assist Police</td>\n",
       "      <td>175.867609</td>\n",
       "      <td>81.0</td>\n",
       "      <td>136825.0</td>\n",
       "      <td>727.664273</td>\n",
       "      <td>16931.0</td>\n",
       "      <td>1.0</td>\n",
       "    </tr>\n",
       "    <tr>\n",
       "      <th>4</th>\n",
       "      <td>Citizen Assist / Service Call</td>\n",
       "      <td>182.269731</td>\n",
       "      <td>131.0</td>\n",
       "      <td>13764281.0</td>\n",
       "      <td>318.979242</td>\n",
       "      <td>20011.0</td>\n",
       "      <td>1.0</td>\n",
       "    </tr>\n",
       "  </tbody>\n",
       "</table>\n",
       "</div>"
      ],
      "text/plain": [
       "                       Call Type         mean  median         sum  \\\n",
       "0                 Administrative  2279.851064   184.0    107153.0   \n",
       "1             Aircraft Emergency   225.220588   107.0     30630.0   \n",
       "2                         Alarms   116.638162   103.0  28125310.0   \n",
       "3                  Assist Police   175.867609    81.0    136825.0   \n",
       "4  Citizen Assist / Service Call   182.269731   131.0  13764281.0   \n",
       "\n",
       "           std      max   min  \n",
       "0  6247.647477  30257.0   1.0  \n",
       "1  1056.256925  12374.0  15.0  \n",
       "2   110.811119  14389.0   1.0  \n",
       "3   727.664273  16931.0   1.0  \n",
       "4   318.979242  20011.0   1.0  "
      ]
     },
     "execution_count": 29,
     "metadata": {},
     "output_type": "execute_result"
    }
   ],
   "source": [
    "call_type_eda = pd.DataFrame(df.groupby(['Call Type'])['dispatch_seconds'].agg(['mean', 'median', 'sum', 'std', 'max', 'min']).reset_index())\n",
    "call_type_eda.head()"
   ]
  },
  {
   "cell_type": "code",
   "execution_count": 30,
   "metadata": {},
   "outputs": [
    {
     "data": {
      "text/html": [
       "<div>\n",
       "<style scoped>\n",
       "    .dataframe tbody tr th:only-of-type {\n",
       "        vertical-align: middle;\n",
       "    }\n",
       "\n",
       "    .dataframe tbody tr th {\n",
       "        vertical-align: top;\n",
       "    }\n",
       "\n",
       "    .dataframe thead th {\n",
       "        text-align: right;\n",
       "    }\n",
       "</style>\n",
       "<table border=\"1\" class=\"dataframe\">\n",
       "  <thead>\n",
       "    <tr style=\"text-align: right;\">\n",
       "      <th></th>\n",
       "      <th>Call Final Disposition</th>\n",
       "      <th>mean</th>\n",
       "      <th>median</th>\n",
       "      <th>sum</th>\n",
       "      <th>std</th>\n",
       "      <th>max</th>\n",
       "      <th>min</th>\n",
       "    </tr>\n",
       "  </thead>\n",
       "  <tbody>\n",
       "    <tr>\n",
       "      <th>0</th>\n",
       "      <td>Against Medical Advice</td>\n",
       "      <td>169.401106</td>\n",
       "      <td>108.0</td>\n",
       "      <td>5942252.0</td>\n",
       "      <td>350.202990</td>\n",
       "      <td>25778.0</td>\n",
       "      <td>1.0</td>\n",
       "    </tr>\n",
       "    <tr>\n",
       "      <th>1</th>\n",
       "      <td>CHP</td>\n",
       "      <td>209.592326</td>\n",
       "      <td>168.0</td>\n",
       "      <td>87400.0</td>\n",
       "      <td>163.083912</td>\n",
       "      <td>1328.0</td>\n",
       "      <td>1.0</td>\n",
       "    </tr>\n",
       "    <tr>\n",
       "      <th>2</th>\n",
       "      <td>Cancelled</td>\n",
       "      <td>145.815240</td>\n",
       "      <td>97.0</td>\n",
       "      <td>7030336.0</td>\n",
       "      <td>316.787260</td>\n",
       "      <td>20795.0</td>\n",
       "      <td>1.0</td>\n",
       "    </tr>\n",
       "    <tr>\n",
       "      <th>3</th>\n",
       "      <td>Code 2 Transport</td>\n",
       "      <td>174.980841</td>\n",
       "      <td>128.0</td>\n",
       "      <td>181251279.0</td>\n",
       "      <td>307.222623</td>\n",
       "      <td>58382.0</td>\n",
       "      <td>1.0</td>\n",
       "    </tr>\n",
       "    <tr>\n",
       "      <th>4</th>\n",
       "      <td>Code 3 Transport</td>\n",
       "      <td>158.931717</td>\n",
       "      <td>108.0</td>\n",
       "      <td>10992989.0</td>\n",
       "      <td>254.464128</td>\n",
       "      <td>9079.0</td>\n",
       "      <td>1.0</td>\n",
       "    </tr>\n",
       "  </tbody>\n",
       "</table>\n",
       "</div>"
      ],
      "text/plain": [
       "   Call Final Disposition        mean  median          sum         std  \\\n",
       "0  Against Medical Advice  169.401106   108.0    5942252.0  350.202990   \n",
       "1                     CHP  209.592326   168.0      87400.0  163.083912   \n",
       "2               Cancelled  145.815240    97.0    7030336.0  316.787260   \n",
       "3        Code 2 Transport  174.980841   128.0  181251279.0  307.222623   \n",
       "4        Code 3 Transport  158.931717   108.0   10992989.0  254.464128   \n",
       "\n",
       "       max  min  \n",
       "0  25778.0  1.0  \n",
       "1   1328.0  1.0  \n",
       "2  20795.0  1.0  \n",
       "3  58382.0  1.0  \n",
       "4   9079.0  1.0  "
      ]
     },
     "execution_count": 30,
     "metadata": {},
     "output_type": "execute_result"
    }
   ],
   "source": [
    "disposition_eda = pd.DataFrame(df.groupby(['Call Final Disposition'])['dispatch_seconds'].agg(['mean', 'median', 'sum', 'std', 'max', 'min']).reset_index())\n",
    "disposition_eda.head()"
   ]
  },
  {
   "cell_type": "code",
   "execution_count": 31,
   "metadata": {},
   "outputs": [
    {
     "data": {
      "text/html": [
       "<div>\n",
       "<style scoped>\n",
       "    .dataframe tbody tr th:only-of-type {\n",
       "        vertical-align: middle;\n",
       "    }\n",
       "\n",
       "    .dataframe tbody tr th {\n",
       "        vertical-align: top;\n",
       "    }\n",
       "\n",
       "    .dataframe thead th {\n",
       "        text-align: right;\n",
       "    }\n",
       "</style>\n",
       "<table border=\"1\" class=\"dataframe\">\n",
       "  <thead>\n",
       "    <tr style=\"text-align: right;\">\n",
       "      <th></th>\n",
       "      <th>Battalion</th>\n",
       "      <th>mean</th>\n",
       "      <th>median</th>\n",
       "      <th>sum</th>\n",
       "      <th>std</th>\n",
       "      <th>max</th>\n",
       "      <th>min</th>\n",
       "    </tr>\n",
       "  </thead>\n",
       "  <tbody>\n",
       "    <tr>\n",
       "      <th>0</th>\n",
       "      <td>3E</td>\n",
       "      <td>57.500000</td>\n",
       "      <td>57.5</td>\n",
       "      <td>115.0</td>\n",
       "      <td>20.506097</td>\n",
       "      <td>72.0</td>\n",
       "      <td>43.0</td>\n",
       "    </tr>\n",
       "    <tr>\n",
       "      <th>1</th>\n",
       "      <td>B01</td>\n",
       "      <td>154.104462</td>\n",
       "      <td>114.0</td>\n",
       "      <td>46942839.0</td>\n",
       "      <td>251.048620</td>\n",
       "      <td>25336.0</td>\n",
       "      <td>1.0</td>\n",
       "    </tr>\n",
       "    <tr>\n",
       "      <th>2</th>\n",
       "      <td>B02</td>\n",
       "      <td>157.221431</td>\n",
       "      <td>116.0</td>\n",
       "      <td>85642601.0</td>\n",
       "      <td>260.249723</td>\n",
       "      <td>33459.0</td>\n",
       "      <td>1.0</td>\n",
       "    </tr>\n",
       "    <tr>\n",
       "      <th>3</th>\n",
       "      <td>B03</td>\n",
       "      <td>159.482193</td>\n",
       "      <td>119.0</td>\n",
       "      <td>82214825.0</td>\n",
       "      <td>284.267276</td>\n",
       "      <td>58382.0</td>\n",
       "      <td>1.0</td>\n",
       "    </tr>\n",
       "    <tr>\n",
       "      <th>4</th>\n",
       "      <td>B04</td>\n",
       "      <td>159.084617</td>\n",
       "      <td>119.0</td>\n",
       "      <td>45747645.0</td>\n",
       "      <td>294.592353</td>\n",
       "      <td>65681.0</td>\n",
       "      <td>1.0</td>\n",
       "    </tr>\n",
       "  </tbody>\n",
       "</table>\n",
       "</div>"
      ],
      "text/plain": [
       "  Battalion        mean  median         sum         std      max   min\n",
       "0        3E   57.500000    57.5       115.0   20.506097     72.0  43.0\n",
       "1       B01  154.104462   114.0  46942839.0  251.048620  25336.0   1.0\n",
       "2       B02  157.221431   116.0  85642601.0  260.249723  33459.0   1.0\n",
       "3       B03  159.482193   119.0  82214825.0  284.267276  58382.0   1.0\n",
       "4       B04  159.084617   119.0  45747645.0  294.592353  65681.0   1.0"
      ]
     },
     "execution_count": 31,
     "metadata": {},
     "output_type": "execute_result"
    }
   ],
   "source": [
    "battalion_eda = pd.DataFrame(df.groupby(['Battalion'])['dispatch_seconds'].agg(['mean', 'median', 'sum', 'std', 'max', 'min']).reset_index())\n",
    "battalion_eda.head()"
   ]
  },
  {
   "cell_type": "markdown",
   "metadata": {},
   "source": [
    "## Export CSV of EDA tables"
   ]
  },
  {
   "cell_type": "code",
   "execution_count": 32,
   "metadata": {},
   "outputs": [],
   "source": [
    "call_type_eda.to_csv('call_type_eda.csv')\n",
    "disposition_eda.to_csv('disposition_eda.csv')\n",
    "battalion_eda.to_csv('battalion_eda.csv')"
   ]
  },
  {
   "cell_type": "code",
   "execution_count": 33,
   "metadata": {},
   "outputs": [
    {
     "data": {
      "text/plain": [
       "<Axes: xlabel='mean', ylabel='Call Type'>"
      ]
     },
     "execution_count": 33,
     "metadata": {},
     "output_type": "execute_result"
    },
    {
     "data": {
      "image/png": "[encoded data removed]",
      "text/plain": [
       "<Figure size 640x480 with 1 Axes>"
      ]
     },
     "metadata": {},
     "output_type": "display_data"
    }
   ],
   "source": [
    "sns.barplot(data=call_type_eda, x = 'mean', y = 'Call Type', palette= 'muted')"
   ]
  },
  {
   "cell_type": "code",
   "execution_count": 34,
   "metadata": {},
   "outputs": [
    {
     "data": {
      "text/plain": [
       "<Axes: xlabel='mean', ylabel='Call Final Disposition'>"
      ]
     },
     "execution_count": 34,
     "metadata": {},
     "output_type": "execute_result"
    },
    {
     "data": {
      "image/png": "[encoded data removed]",
      "text/plain": [
       "<Figure size 640x480 with 1 Axes>"
      ]
     },
     "metadata": {},
     "output_type": "display_data"
    }
   ],
   "source": [
    "sns.barplot(data=disposition_eda, x = 'mean', y = 'Call Final Disposition', palette = 'muted')"
   ]
  },
  {
   "cell_type": "code",
   "execution_count": 35,
   "metadata": {},
   "outputs": [
    {
     "data": {
      "text/plain": [
       "<Axes: xlabel='mean', ylabel='Battalion'>"
      ]
     },
     "execution_count": 35,
     "metadata": {},
     "output_type": "execute_result"
    },
    {
     "data": {
      "image/png": "[encoded data removed]",
      "text/plain": [
       "<Figure size 640x480 with 1 Axes>"
      ]
     },
     "metadata": {},
     "output_type": "display_data"
    }
   ],
   "source": [
    "sns.barplot(data=battalion_eda, x = 'mean', y = 'Battalion', palette= 'muted')"
   ]
  }
 ],
 "metadata": {
  "kernelspec": {
   "display_name": "Python 3",
   "language": "python",
   "name": "python3"
  },
  "language_info": {
   "codemirror_mode": {
    "name": "ipython",
    "version": 3
   },
   "file_extension": ".py",
   "mimetype": "text/x-python",
   "name": "python",
   "nbconvert_exporter": "python",
   "pygments_lexer": "ipython3",
   "version": "3.10.11"
  }
 },
 "nbformat": 4,
 "nbformat_minor": 2
}
