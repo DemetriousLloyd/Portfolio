{
 "cells": [
  {
   "cell_type": "markdown",
   "metadata": {},
   "source": [
    "# Phosphorous Predictors in the Upper Snake-Rock Water Shed, Idaho Magic Valley\n",
    "### Demetrious Lloyd\n",
    "### College of IT, Western Governors University, Salt Lake City, Utah\n",
    "#### Disclaimer: This is a rudimentary analysis reflecting my work as a student at Western Governors University. The publicly available data sets used in these models do not represent the research performed by any government agency."
   ]
  },
  {
   "cell_type": "markdown",
   "metadata": {},
   "source": [
    "## Introduction\n",
    "\n",
    "### Research Question\n",
    "**Research Question:** : Given the explanatory variables provided, can a logistic regression model be developed to predict when the concentration of phosphorous will exceed its maximum allowable threshold of 0.075 ppm?\n",
    "\n",
    "---"
   ]
  },
  {
   "cell_type": "markdown",
   "metadata": {},
   "source": [
    "<img src=\"Phosphorus_SystemModel.jpg\" alt=\"drawing\" width=\"1000\"/><sup>1</sup>"
   ]
  },
  {
   "cell_type": "markdown",
   "metadata": {},
   "source": [
    "Phosphorous is an critical nutrient in regards to sustaining life as it comprises over 9% of all RNA and DNA by weight<sup>2</sup>. For the purposes of the USDA (US Department of Agriculture), this analysis will be focused on the environmentally harmful effects of phosphorous as a fertilizer. When phosphorous is added to soil, the runoff from watering crops can cause algae to grow en masse.<sup>1</sup> The bacteria and other microorganisms that feed off of the algae create low-oxygen environments that often lead to the death of local fish and other species.<sup>1</sup>.\n",
    "\n",
    "CEAP, the Conservation Effects Assessment Project is a project led by the U.S. Department of Agriculture (USDA) – Natural Resources Conservation Service (NCRS)<sup>3</sup>. The watershed studies performed by CEAP inspect water quality, availability, and soil concerns throughout the nation.<sup>3</sup> Though multiple study sites exist, this analysis will inspect the CEAP data located at the location: Upper Snake River and Rock Creek, Idaho. The water path locations measured by CEAP originate from the snowmelt from South Hills of Southern-Central Idaho and discharge into the Snake River, the largest local water source of the Snake River Basin. The CEAP data delivery system, STEWARDS<sup>4</sup> reveals that this location collects flow rate data, electrical conductivity (EC), total suspended solid (TSS) measurements and specific chemical concentrations (Table 1). "
   ]
  },
  {
   "cell_type": "markdown",
   "metadata": {},
   "source": [
    "**Table 1**\n",
    "\n",
    "Measured Soil Compounds and Their Atomic Symbols\n",
    "\n",
    "|Atom/Molecule | Atomic Symbol|\n",
    "|---|---|\n",
    "|Aluminum | Al|\n",
    "|Calcium | Ca|\n",
    "|Chloride | Cl<sup>-</sup>|\n",
    "|Iron | Fe|\n",
    "|Potassium | K|\n",
    "|Magnesium | Mg|\n",
    "|Manganese | Mn|\n",
    "|Sodium | Na|\n",
    "|Ammonia | NH4<sup>+</sup>|\n",
    "|Nitrate | NO3<sup>-</sup>|\n",
    "|Phosphorous | P|\n",
    "|Sulfur | S|\n",
    "|Zinc | Zn|"
   ]
  },
  {
   "cell_type": "markdown",
   "metadata": {},
   "source": [
    "It should be noted that soil particles are often negatively charged<sup>5</sup>. Nitrates and phosphorous, in its negatively charged form phosphate (PO43<sup>-</sup>) are repelled by soil and are more likely to be dissolved in water.\n",
    "\n",
    "##### **Hypothesis Testing:**\n",
    "\n",
    "**Null Hypothesis (H<sub>0</sub>):** Flow rates, electrical conductivity, suspended solids, and ion concentrations (Table 1) statistically significantly affect phosphorous threshold levels at a 0.05 alpha level.\n",
    "\n",
    "**Alternate Hypothesis (H<sub>A</sub>):** Flow rates, electrical conductivity, suspended solids, and ion concentrations (Table 1) do not statistically significantly affect phosphorous threshold levels at a 0.05 alpha level.\n"
   ]
  },
  {
   "cell_type": "markdown",
   "metadata": {},
   "source": [
    "## Data Collection"
   ]
  },
  {
   "cell_type": "markdown",
   "metadata": {},
   "source": [
    "The zip files \"IDUSR_Basin Discharge_measurement.7z\"and \"IDUSR_Basin Water Quality_measurement.7z\" were used to collect the data sets: \"IDUSR_Basin_SmplFlowVol.csv\" and \"IDUSR_Basin_WaterQuality.csv\". These data sets are publicly available on a server provided by the USDA at https://www.nrrig.mwa.ars.usda.gov/stewards/stewards.html. The file \"IDUSR_Basin_SmplFlowVol.csv\" contains the timestamps and flow rates in meters/second at designated canal sites in the Snake River Basin. Flat file, \"IDUSR_Basin_WaterQuality.csv\" contains the rest of the predictors mentioned below. These data sets were converted to data frames and merged on their matching fields: SiteID, Date, and SampleID. An additional field, P_threshold, was appended to the merged data frame containing the Boolean values True and False, where True represents sample records that surpass the threshold concentration of 0.075 ppm. 0.075 ppm is an upper threshold limit established by the Idaho Department of Environmental Quality<sup>6</sup> for phosphorous concentrations in the main Snake River.\n",
    "\n",
    "IDUSR_Basin_SmplFlowVol.csv has 4 fields: “Site identifier”, “Date & time”, “Sample identifier”, and “Sample flow volume, water, cubic meters”. These fields represent the site location, timestamp of water collection, unique sample ID and water flow in m3/s respectively. IDUSR_Basin_Waterquality.csv contains 22 fields. They are expanded upon in Table 2. The first 3 fields of both data sets will be renamed to SiteID, Date, and SampleID respectively.\n",
    "\n",
    "**Table 2**\n",
    "\n",
    "Fields of the Flat File: IDUSR_Basin_Waterquality.csv\n",
    "\n",
    "|Field | Example | Meaning/Unit |\n",
    "| --- | -- | --- |\n",
    "|Site identifier  | IDUSRA10  | Site location |\n",
    "|Date/Time  | 5/30/2006 16:30 | Timestamp |\n",
    "|Sample identifier  | A10.0032  | Unique Sample ID |\n",
    "|Field method  | IDUSR_FM06  | Collection and/or treatment method |\n",
    "|Nitrogen, total kjeldahl, water, milligrams per liter  | 0.32 | Total Nitrogen (ppm) |\n",
    "|Phosphorus, total, water, milligrams per liter  | 0.11 | Total Phosphorous (ppm) |\n",
    "|Aluminum, dissolved, water, milligrams per liter  | 0.02 | Aluminum (ppm) |\n",
    "|Calcium, dissolved, water, milligrams per liter  | 44.93 | Calcium (ppm) |\n",
    "|Chloride, dissolved, water, milligrams per liter  | 16.9 | Chloride (ppm) |\n",
    "|Iron, dissolved, water, milligrams per liter  | 0.03 | Iron (ppm) |\n",
    "|Potassium, dissolved, water, milligrams per liter  | 4.02 | Potassium (ppm) |\n",
    "|Magnesium, dissolved, water, milligrams per liter  | 14.91 | Magnesium (ppm) |\n",
    "|Manganese, dissolved, water, milligrams per liter  | 0 | Manganese (ppm) |"
   ]
  },
  {
   "cell_type": "markdown",
   "metadata": {},
   "source": [
    "---\n",
    "---\n",
    "---"
   ]
  },
  {
   "cell_type": "markdown",
   "metadata": {},
   "source": [
    "## Data Extraction and Preparation\n",
    "### Install Necessary Packages"
   ]
  },
  {
   "cell_type": "code",
   "execution_count": 1,
   "metadata": {},
   "outputs": [],
   "source": [
    "#!pip install pandas\n",
    "#!pip install seaborn\n",
    "#!pip install missingno\n",
    "#!pip install xgboost\n",
    "#!pip install tensorflow"
   ]
  },
  {
   "cell_type": "markdown",
   "metadata": {},
   "source": [
    "### Python Packages\n",
    "\n",
    "The necessary Python packages for data preparation, feature extraction and logistic regression are:"
   ]
  },
  {
   "cell_type": "code",
   "execution_count": 2,
   "metadata": {},
   "outputs": [],
   "source": [
    "import warnings\n",
    "warnings.filterwarnings('ignore')\n",
    "import pandas as pd\n",
    "import numpy as np\n",
    "import seaborn as sns\n",
    "import matplotlib.pyplot as plt\n",
    "import os\n",
    "import datetime\n",
    "from sklearn.linear_model import Ridge\n",
    "from sklearn.linear_model import Lasso\n",
    "from sklearn.linear_model import LogisticRegression\n",
    "from sklearn.linear_model import LinearRegression\n",
    "from sklearn.model_selection import train_test_split\n",
    "from sklearn.model_selection import cross_val_score"
   ]
  },
  {
   "cell_type": "markdown",
   "metadata": {},
   "source": [
    "### Data Extraction"
   ]
  },
  {
   "cell_type": "code",
   "execution_count": 3,
   "metadata": {},
   "outputs": [],
   "source": [
    "# The python `os` package was used to open the directory, or PC folder, on the local machine and load the csv files mentioned in the Data Collection section."
   ]
  },
  {
   "cell_type": "code",
   "execution_count": 4,
   "metadata": {},
   "outputs": [
    {
     "data": {
      "text/plain": [
       "'C:\\\\Users\\\\raven\\\\OneDrive - Western Governors University\\\\D214\\\\Task_2'"
      ]
     },
     "execution_count": 4,
     "metadata": {},
     "output_type": "execute_result"
    }
   ],
   "source": [
    "# change my working directory (folder)\n",
    "os.chdir(r\"C:\\Users\\raven\\OneDrive - Western Governors University\\D214\\Task_2\")\n",
    "os.getcwd()"
   ]
  },
  {
   "cell_type": "code",
   "execution_count": 5,
   "metadata": {},
   "outputs": [
    {
     "name": "stdout",
     "output_type": "stream",
     "text": [
      "<class 'pandas.core.frame.DataFrame'>\n",
      "RangeIndex: 6420 entries, 0 to 6419\n",
      "Data columns (total 22 columns):\n",
      " #   Column                                                     Non-Null Count  Dtype  \n",
      "---  ------                                                     --------------  -----  \n",
      " 0   Site identifier                                            6420 non-null   object \n",
      " 1   Date/Time                                                  6420 non-null   object \n",
      " 2   Sample identifier                                          6420 non-null   object \n",
      " 3   Field method                                               6420 non-null   object \n",
      " 4   Nitrogen, total kjeldahl, water, milligrams per liter      5933 non-null   float64\n",
      " 5   Phosphorus, total, water, milligrams per liter             5733 non-null   float64\n",
      " 6   Aluminum, dissolved, water, milligrams per liter           6387 non-null   float64\n",
      " 7   Calcium, dissolved, water, milligrams per liter            6387 non-null   float64\n",
      " 8   Chloride, dissolved, water, milligrams per liter           5449 non-null   float64\n",
      " 9   Iron, dissolved, water, milligrams per liter               6232 non-null   float64\n",
      " 10  Potassium, dissolved, water, milligrams per liter          6387 non-null   float64\n",
      " 11  Magnesium, dissolved, water, milligrams per liter          6387 non-null   float64\n",
      " 12  Manganese, dissolved, water, milligrams per liter          6387 non-null   float64\n",
      " 13  Sodium, dissolved, water, milligrams per liter             6316 non-null   float64\n",
      " 14  Ammonia, dissolved, water, milligrams per liter            6371 non-null   float64\n",
      " 15  Nitrate-Nitrogen, dissolved, water, milligrams per liter   6369 non-null   float64\n",
      " 16  Phosphorus, dissolved, water, milligrams per liter         6387 non-null   float64\n",
      " 17  Sulfur, dissolved, water, milligrams per liter             6387 non-null   float64\n",
      " 18  Zinc, dissolved, water, milligrams per liter               6387 non-null   float64\n",
      " 19  Specific conductivity, water, microsiemens per centimeter  6386 non-null   float64\n",
      " 20  pH, water, no units                                        6374 non-null   float64\n",
      " 21  Sediment, suspended, water, milligrams per liter           6407 non-null   float64\n",
      "dtypes: float64(18), object(4)\n",
      "memory usage: 1.1+ MB\n"
     ]
    }
   ],
   "source": [
    "file = 'IDUSR_Basin_WaterQuality.csv'\n",
    "file2 = 'IDUSR_Basin_SmplFlowVol.csv'\n",
    "ceap = pd.read_csv(file)\n",
    "flow = pd.read_csv(file2)\n",
    "ceap.info()"
   ]
  },
  {
   "cell_type": "code",
   "execution_count": 6,
   "metadata": {},
   "outputs": [
    {
     "data": {
      "text/html": [
       "<div>\n",
       "<style scoped>\n",
       "    .dataframe tbody tr th:only-of-type {\n",
       "        vertical-align: middle;\n",
       "    }\n",
       "\n",
       "    .dataframe tbody tr th {\n",
       "        vertical-align: top;\n",
       "    }\n",
       "\n",
       "    .dataframe thead th {\n",
       "        text-align: right;\n",
       "    }\n",
       "</style>\n",
       "<table border=\"1\" class=\"dataframe\">\n",
       "  <thead>\n",
       "    <tr style=\"text-align: right;\">\n",
       "      <th></th>\n",
       "      <th>Site identifier</th>\n",
       "      <th>Date/Time</th>\n",
       "      <th>Sample identifier</th>\n",
       "      <th>Field method</th>\n",
       "      <th>Nitrogen, total kjeldahl, water, milligrams per liter</th>\n",
       "      <th>Phosphorus, total, water, milligrams per liter</th>\n",
       "      <th>Aluminum, dissolved, water, milligrams per liter</th>\n",
       "      <th>Calcium, dissolved, water, milligrams per liter</th>\n",
       "      <th>Chloride, dissolved, water, milligrams per liter</th>\n",
       "      <th>Iron, dissolved, water, milligrams per liter</th>\n",
       "      <th>...</th>\n",
       "      <th>Manganese, dissolved, water, milligrams per liter</th>\n",
       "      <th>Sodium, dissolved, water, milligrams per liter</th>\n",
       "      <th>Ammonia, dissolved, water, milligrams per liter</th>\n",
       "      <th>Nitrate-Nitrogen, dissolved, water, milligrams per liter</th>\n",
       "      <th>Phosphorus, dissolved, water, milligrams per liter</th>\n",
       "      <th>Sulfur, dissolved, water, milligrams per liter</th>\n",
       "      <th>Zinc, dissolved, water, milligrams per liter</th>\n",
       "      <th>Specific conductivity, water, microsiemens per centimeter</th>\n",
       "      <th>pH, water, no units</th>\n",
       "      <th>Sediment, suspended, water, milligrams per liter</th>\n",
       "    </tr>\n",
       "  </thead>\n",
       "  <tbody>\n",
       "    <tr>\n",
       "      <th>0</th>\n",
       "      <td>IDUSRA10</td>\n",
       "      <td>2005-04-19 09:10:00</td>\n",
       "      <td>A10.0001</td>\n",
       "      <td>IDUSR_FM06</td>\n",
       "      <td>0.62</td>\n",
       "      <td>0.37</td>\n",
       "      <td>0.13</td>\n",
       "      <td>36.88</td>\n",
       "      <td>42.2</td>\n",
       "      <td>0.07</td>\n",
       "      <td>...</td>\n",
       "      <td>0.0</td>\n",
       "      <td>34.82</td>\n",
       "      <td>0.00</td>\n",
       "      <td>0.00</td>\n",
       "      <td>0.12</td>\n",
       "      <td>21.93</td>\n",
       "      <td>0.01</td>\n",
       "      <td>498.0</td>\n",
       "      <td>8.52</td>\n",
       "      <td>172.57</td>\n",
       "    </tr>\n",
       "    <tr>\n",
       "      <th>1</th>\n",
       "      <td>IDUSRA10</td>\n",
       "      <td>2005-04-28 09:50:00</td>\n",
       "      <td>A10.0002</td>\n",
       "      <td>IDUSR_FM06</td>\n",
       "      <td>0.38</td>\n",
       "      <td>0.12</td>\n",
       "      <td>0.01</td>\n",
       "      <td>33.98</td>\n",
       "      <td>38.9</td>\n",
       "      <td>0.01</td>\n",
       "      <td>...</td>\n",
       "      <td>0.0</td>\n",
       "      <td>31.23</td>\n",
       "      <td>0.00</td>\n",
       "      <td>0.00</td>\n",
       "      <td>0.03</td>\n",
       "      <td>15.79</td>\n",
       "      <td>0.05</td>\n",
       "      <td>490.0</td>\n",
       "      <td>8.22</td>\n",
       "      <td>88.42</td>\n",
       "    </tr>\n",
       "    <tr>\n",
       "      <th>2</th>\n",
       "      <td>IDUSRA10</td>\n",
       "      <td>2005-05-05 09:40:00</td>\n",
       "      <td>A10.0003</td>\n",
       "      <td>IDUSR_FM06</td>\n",
       "      <td>0.29</td>\n",
       "      <td>0.08</td>\n",
       "      <td>0.01</td>\n",
       "      <td>43.94</td>\n",
       "      <td>35.8</td>\n",
       "      <td>0.01</td>\n",
       "      <td>...</td>\n",
       "      <td>0.0</td>\n",
       "      <td>30.26</td>\n",
       "      <td>0.00</td>\n",
       "      <td>0.48</td>\n",
       "      <td>0.07</td>\n",
       "      <td>16.75</td>\n",
       "      <td>0.03</td>\n",
       "      <td>509.0</td>\n",
       "      <td>8.52</td>\n",
       "      <td>516.84</td>\n",
       "    </tr>\n",
       "    <tr>\n",
       "      <th>3</th>\n",
       "      <td>IDUSRA10</td>\n",
       "      <td>2005-05-19 09:49:00</td>\n",
       "      <td>A10.0004</td>\n",
       "      <td>IDUSR_FM06</td>\n",
       "      <td>0.34</td>\n",
       "      <td>0.07</td>\n",
       "      <td>0.02</td>\n",
       "      <td>40.41</td>\n",
       "      <td>27.6</td>\n",
       "      <td>0.01</td>\n",
       "      <td>...</td>\n",
       "      <td>0.0</td>\n",
       "      <td>24.34</td>\n",
       "      <td>0.06</td>\n",
       "      <td>0.00</td>\n",
       "      <td>0.06</td>\n",
       "      <td>14.41</td>\n",
       "      <td>0.01</td>\n",
       "      <td>447.0</td>\n",
       "      <td>8.34</td>\n",
       "      <td>60.61</td>\n",
       "    </tr>\n",
       "    <tr>\n",
       "      <th>4</th>\n",
       "      <td>IDUSRA10</td>\n",
       "      <td>2005-05-26 09:36:00</td>\n",
       "      <td>A10.0005</td>\n",
       "      <td>IDUSR_FM06</td>\n",
       "      <td>0.46</td>\n",
       "      <td>0.09</td>\n",
       "      <td>0.01</td>\n",
       "      <td>39.99</td>\n",
       "      <td>29.3</td>\n",
       "      <td>0.01</td>\n",
       "      <td>...</td>\n",
       "      <td>0.0</td>\n",
       "      <td>25.72</td>\n",
       "      <td>0.00</td>\n",
       "      <td>0.00</td>\n",
       "      <td>0.04</td>\n",
       "      <td>14.25</td>\n",
       "      <td>0.00</td>\n",
       "      <td>456.0</td>\n",
       "      <td>8.49</td>\n",
       "      <td>42.95</td>\n",
       "    </tr>\n",
       "  </tbody>\n",
       "</table>\n",
       "<p>5 rows × 22 columns</p>\n",
       "</div>"
      ],
      "text/plain": [
       "  Site identifier            Date/Time Sample identifier Field method   \\\n",
       "0        IDUSRA10  2005-04-19 09:10:00          A10.0001    IDUSR_FM06   \n",
       "1        IDUSRA10  2005-04-28 09:50:00          A10.0002    IDUSR_FM06   \n",
       "2        IDUSRA10  2005-05-05 09:40:00          A10.0003    IDUSR_FM06   \n",
       "3        IDUSRA10  2005-05-19 09:49:00          A10.0004    IDUSR_FM06   \n",
       "4        IDUSRA10  2005-05-26 09:36:00          A10.0005    IDUSR_FM06   \n",
       "\n",
       "   Nitrogen, total kjeldahl, water, milligrams per liter  \\\n",
       "0                                               0.62       \n",
       "1                                               0.38       \n",
       "2                                               0.29       \n",
       "3                                               0.34       \n",
       "4                                               0.46       \n",
       "\n",
       "   Phosphorus, total, water, milligrams per liter  \\\n",
       "0                                            0.37   \n",
       "1                                            0.12   \n",
       "2                                            0.08   \n",
       "3                                            0.07   \n",
       "4                                            0.09   \n",
       "\n",
       "   Aluminum, dissolved, water, milligrams per liter  \\\n",
       "0                                              0.13   \n",
       "1                                              0.01   \n",
       "2                                              0.01   \n",
       "3                                              0.02   \n",
       "4                                              0.01   \n",
       "\n",
       "   Calcium, dissolved, water, milligrams per liter  \\\n",
       "0                                            36.88   \n",
       "1                                            33.98   \n",
       "2                                            43.94   \n",
       "3                                            40.41   \n",
       "4                                            39.99   \n",
       "\n",
       "   Chloride, dissolved, water, milligrams per liter  \\\n",
       "0                                              42.2   \n",
       "1                                              38.9   \n",
       "2                                              35.8   \n",
       "3                                              27.6   \n",
       "4                                              29.3   \n",
       "\n",
       "   Iron, dissolved, water, milligrams per liter  ...  \\\n",
       "0                                          0.07  ...   \n",
       "1                                          0.01  ...   \n",
       "2                                          0.01  ...   \n",
       "3                                          0.01  ...   \n",
       "4                                          0.01  ...   \n",
       "\n",
       "   Manganese, dissolved, water, milligrams per liter  \\\n",
       "0                                                0.0   \n",
       "1                                                0.0   \n",
       "2                                                0.0   \n",
       "3                                                0.0   \n",
       "4                                                0.0   \n",
       "\n",
       "   Sodium, dissolved, water, milligrams per liter  \\\n",
       "0                                           34.82   \n",
       "1                                           31.23   \n",
       "2                                           30.26   \n",
       "3                                           24.34   \n",
       "4                                           25.72   \n",
       "\n",
       "   Ammonia, dissolved, water, milligrams per liter  \\\n",
       "0                                             0.00   \n",
       "1                                             0.00   \n",
       "2                                             0.00   \n",
       "3                                             0.06   \n",
       "4                                             0.00   \n",
       "\n",
       "   Nitrate-Nitrogen, dissolved, water, milligrams per liter  \\\n",
       "0                                               0.00          \n",
       "1                                               0.00          \n",
       "2                                               0.48          \n",
       "3                                               0.00          \n",
       "4                                               0.00          \n",
       "\n",
       "   Phosphorus, dissolved, water, milligrams per liter  \\\n",
       "0                                               0.12    \n",
       "1                                               0.03    \n",
       "2                                               0.07    \n",
       "3                                               0.06    \n",
       "4                                               0.04    \n",
       "\n",
       "   Sulfur, dissolved, water, milligrams per liter  \\\n",
       "0                                           21.93   \n",
       "1                                           15.79   \n",
       "2                                           16.75   \n",
       "3                                           14.41   \n",
       "4                                           14.25   \n",
       "\n",
       "   Zinc, dissolved, water, milligrams per liter  \\\n",
       "0                                          0.01   \n",
       "1                                          0.05   \n",
       "2                                          0.03   \n",
       "3                                          0.01   \n",
       "4                                          0.00   \n",
       "\n",
       "   Specific conductivity, water, microsiemens per centimeter  \\\n",
       "0                                              498.0           \n",
       "1                                              490.0           \n",
       "2                                              509.0           \n",
       "3                                              447.0           \n",
       "4                                              456.0           \n",
       "\n",
       "   pH, water, no units  Sediment, suspended, water, milligrams per liter  \n",
       "0                 8.52                                            172.57  \n",
       "1                 8.22                                             88.42  \n",
       "2                 8.52                                            516.84  \n",
       "3                 8.34                                             60.61  \n",
       "4                 8.49                                             42.95  \n",
       "\n",
       "[5 rows x 22 columns]"
      ]
     },
     "execution_count": 6,
     "metadata": {},
     "output_type": "execute_result"
    }
   ],
   "source": [
    "ceap.head()"
   ]
  },
  {
   "cell_type": "code",
   "execution_count": 7,
   "metadata": {},
   "outputs": [
    {
     "name": "stdout",
     "output_type": "stream",
     "text": [
      "<class 'pandas.core.frame.DataFrame'>\n",
      "RangeIndex: 6181 entries, 0 to 6180\n",
      "Data columns (total 4 columns):\n",
      " #   Column                                   Non-Null Count  Dtype  \n",
      "---  ------                                   --------------  -----  \n",
      " 0   Site identifier                          6181 non-null   object \n",
      " 1   Date & time                              6181 non-null   object \n",
      " 2   Sample identifier                        6181 non-null   object \n",
      " 3   Sample flow volume, water, cubic meters  6050 non-null   float64\n",
      "dtypes: float64(1), object(3)\n",
      "memory usage: 193.3+ KB\n"
     ]
    }
   ],
   "source": [
    "flow.info()"
   ]
  },
  {
   "cell_type": "code",
   "execution_count": 8,
   "metadata": {},
   "outputs": [
    {
     "data": {
      "text/html": [
       "<div>\n",
       "<style scoped>\n",
       "    .dataframe tbody tr th:only-of-type {\n",
       "        vertical-align: middle;\n",
       "    }\n",
       "\n",
       "    .dataframe tbody tr th {\n",
       "        vertical-align: top;\n",
       "    }\n",
       "\n",
       "    .dataframe thead th {\n",
       "        text-align: right;\n",
       "    }\n",
       "</style>\n",
       "<table border=\"1\" class=\"dataframe\">\n",
       "  <thead>\n",
       "    <tr style=\"text-align: right;\">\n",
       "      <th></th>\n",
       "      <th>Site identifier</th>\n",
       "      <th>Date &amp; time</th>\n",
       "      <th>Sample identifier</th>\n",
       "      <th>Sample flow volume, water, cubic meters</th>\n",
       "    </tr>\n",
       "  </thead>\n",
       "  <tbody>\n",
       "    <tr>\n",
       "      <th>0</th>\n",
       "      <td>\"IDUSRRCH\"</td>\n",
       "      <td>2015-06-02 09:03:00</td>\n",
       "      <td>\"RCH.0205\"</td>\n",
       "      <td>1299369.0</td>\n",
       "    </tr>\n",
       "    <tr>\n",
       "      <th>1</th>\n",
       "      <td>\"IDUSRRCH\"</td>\n",
       "      <td>2015-06-09 08:58:00</td>\n",
       "      <td>\"RCH.0206\"</td>\n",
       "      <td>657667.0</td>\n",
       "    </tr>\n",
       "    <tr>\n",
       "      <th>2</th>\n",
       "      <td>\"IDUSRRCH\"</td>\n",
       "      <td>2015-06-16 09:15:00</td>\n",
       "      <td>\"RCH.0207\"</td>\n",
       "      <td>237604.0</td>\n",
       "    </tr>\n",
       "    <tr>\n",
       "      <th>3</th>\n",
       "      <td>\"IDUSRRCH\"</td>\n",
       "      <td>2015-06-23 08:00:00</td>\n",
       "      <td>\"RCH.0208\"</td>\n",
       "      <td>6949.0</td>\n",
       "    </tr>\n",
       "    <tr>\n",
       "      <th>4</th>\n",
       "      <td>\"IDUSRRCH\"</td>\n",
       "      <td>2015-11-10 10:25:00</td>\n",
       "      <td>\"RCH.0209\"</td>\n",
       "      <td>55303.0</td>\n",
       "    </tr>\n",
       "  </tbody>\n",
       "</table>\n",
       "</div>"
      ],
      "text/plain": [
       "  Site identifier          Date & time Sample identifier  \\\n",
       "0      \"IDUSRRCH\"  2015-06-02 09:03:00        \"RCH.0205\"   \n",
       "1      \"IDUSRRCH\"  2015-06-09 08:58:00        \"RCH.0206\"   \n",
       "2      \"IDUSRRCH\"  2015-06-16 09:15:00        \"RCH.0207\"   \n",
       "3      \"IDUSRRCH\"  2015-06-23 08:00:00        \"RCH.0208\"   \n",
       "4      \"IDUSRRCH\"  2015-11-10 10:25:00        \"RCH.0209\"   \n",
       "\n",
       "   Sample flow volume, water, cubic meters  \n",
       "0                                1299369.0  \n",
       "1                                 657667.0  \n",
       "2                                 237604.0  \n",
       "3                                   6949.0  \n",
       "4                                  55303.0  "
      ]
     },
     "execution_count": 8,
     "metadata": {},
     "output_type": "execute_result"
    }
   ],
   "source": [
    "flow.head()"
   ]
  },
  {
   "cell_type": "markdown",
   "metadata": {},
   "source": [
    "### Data Formatting"
   ]
  },
  {
   "cell_type": "code",
   "execution_count": 9,
   "metadata": {},
   "outputs": [],
   "source": [
    "# Convert Dates to Date/Time Data\n",
    "ceap['Date/Time'] = pd.to_datetime(ceap['Date/Time'])\n",
    "flow['Date & time'] = pd.to_datetime(flow['Date & time'])"
   ]
  },
  {
   "cell_type": "code",
   "execution_count": 10,
   "metadata": {},
   "outputs": [
    {
     "data": {
      "text/plain": [
       "0   2005-04-19 09:10:00\n",
       "1   2005-04-28 09:50:00\n",
       "2   2005-05-05 09:40:00\n",
       "3   2005-05-19 09:49:00\n",
       "4   2005-05-26 09:36:00\n",
       "Name: Date/Time, dtype: datetime64[ns]"
      ]
     },
     "execution_count": 10,
     "metadata": {},
     "output_type": "execute_result"
    }
   ],
   "source": [
    "ceap['Date/Time'].head()"
   ]
  },
  {
   "cell_type": "code",
   "execution_count": 11,
   "metadata": {},
   "outputs": [
    {
     "data": {
      "text/plain": [
       "0   2015-06-02 09:03:00\n",
       "1   2015-06-09 08:58:00\n",
       "2   2015-06-16 09:15:00\n",
       "3   2015-06-23 08:00:00\n",
       "4   2015-11-10 10:25:00\n",
       "Name: Date & time, dtype: datetime64[ns]"
      ]
     },
     "execution_count": 11,
     "metadata": {},
     "output_type": "execute_result"
    }
   ],
   "source": [
    "flow['Date & time'].head()"
   ]
  },
  {
   "cell_type": "code",
   "execution_count": 12,
   "metadata": {},
   "outputs": [
    {
     "data": {
      "text/plain": [
       "Index(['Site identifier', 'Date/Time', 'Sample identifier', 'Field method ',\n",
       "       'Nitrogen, total kjeldahl, water, milligrams per liter',\n",
       "       'Phosphorus, total, water, milligrams per liter',\n",
       "       'Aluminum, dissolved, water, milligrams per liter',\n",
       "       'Calcium, dissolved, water, milligrams per liter',\n",
       "       'Chloride, dissolved, water, milligrams per liter',\n",
       "       'Iron, dissolved, water, milligrams per liter',\n",
       "       'Potassium, dissolved, water, milligrams per liter',\n",
       "       'Magnesium, dissolved, water, milligrams per liter',\n",
       "       'Manganese, dissolved, water, milligrams per liter',\n",
       "       'Sodium, dissolved, water, milligrams per liter',\n",
       "       'Ammonia, dissolved, water, milligrams per liter',\n",
       "       'Nitrate-Nitrogen, dissolved, water, milligrams per liter',\n",
       "       'Phosphorus, dissolved, water, milligrams per liter',\n",
       "       'Sulfur, dissolved, water, milligrams per liter',\n",
       "       'Zinc, dissolved, water, milligrams per liter',\n",
       "       'Specific conductivity, water, microsiemens per centimeter',\n",
       "       'pH, water, no units',\n",
       "       'Sediment, suspended, water, milligrams per liter'],\n",
       "      dtype='object')"
      ]
     },
     "execution_count": 12,
     "metadata": {},
     "output_type": "execute_result"
    }
   ],
   "source": [
    "# Fill NA values with zero\n",
    "# Null values had no reporting\n",
    "ceap.fillna(0, inplace=True)\n",
    "(ceap.columns)"
   ]
  },
  {
   "cell_type": "code",
   "execution_count": 13,
   "metadata": {},
   "outputs": [
    {
     "data": {
      "text/plain": [
       "Index(['Site identifier', 'Date & time', 'Sample identifier',\n",
       "       'Sample flow volume, water, cubic meters'],\n",
       "      dtype='object')"
      ]
     },
     "execution_count": 13,
     "metadata": {},
     "output_type": "execute_result"
    }
   ],
   "source": [
    "# Fill NA values with zero\n",
    "# Null values had no reporting\n",
    "flow.fillna(0, inplace=True)\n",
    "(flow.columns)"
   ]
  },
  {
   "cell_type": "markdown",
   "metadata": {},
   "source": [
    "### Ceap Formatting"
   ]
  },
  {
   "cell_type": "code",
   "execution_count": 14,
   "metadata": {},
   "outputs": [],
   "source": [
    "# Create data dictionary to rename columns\n",
    "ceap_dict = {'Site identifier':'SiteID', 'Date/Time':'Date', 'Sample identifier':'SampleID', 'Field method ':'Field_method', 'Nitrogen, total kjeldahl, water, milligrams per liter':'N_total_ppm', 'Phosphorus, total, water, milligrams per liter':'P_total_ppm', 'Aluminum, dissolved, water, milligrams per liter':'Al_ppm', 'Calcium, dissolved, water, milligrams per liter':'Ca_ppm', 'Chloride, dissolved, water, milligrams per liter':'Cl_ppm', 'Iron, dissolved, water, milligrams per liter':'Fe_ppm', 'Potassium, dissolved, water, milligrams per liter':'K_ppm', 'Magnesium, dissolved, water, milligrams per liter':'Mg_ppm', 'Manganese, dissolved, water, milligrams per liter':'Mn_ppm', 'Sodium, dissolved, water, milligrams per liter':'Na_ppm', 'Ammonia, dissolved, water, milligrams per liter':'NH4_ppm', 'Nitrate-Nitrogen, dissolved, water, milligrams per liter':'NO3_ppm', 'Phosphorus, dissolved, water, milligrams per liter':'P_ppm', 'Sulfur, dissolved, water, milligrams per liter':'S_ppm', 'Zinc, dissolved, water, milligrams per liter':'Zn_ppm', 'Specific conductivity, water, microsiemens per centimeter':'EC_mS_cm', 'pH, water, no units':'pH', 'Sediment, suspended, water, milligrams per liter':'TSS_ppm'}\n",
    "flow_dict = {\"Site identifier\":\"SiteID\", \"Date & time\":\"Date\",\"Sample identifier\":\"SampleID\", \"Sample flow volume, water, cubic meters\":\"m3_s\"}"
   ]
  },
  {
   "cell_type": "code",
   "execution_count": 15,
   "metadata": {},
   "outputs": [],
   "source": [
    "ceap.rename(columns = ceap_dict, inplace = True)\n",
    "ceap = ceap.reindex(columns = ['SiteID', 'Date', 'SampleID', 'Field_method', 'Al_ppm', 'Ca_ppm', 'Cl_ppm', 'Fe_ppm', 'K_ppm', 'Mg_ppm', 'Mn_ppm', 'Na_ppm', 'NH4_ppm', 'NO3_ppm', 'P_ppm', 'S_ppm', 'Zn_ppm', 'EC_mS_cm', 'pH', 'TSS_ppm', 'N_total_ppm', 'P_total_ppm'])\n",
    "flow.rename(columns = flow_dict, inplace = True)"
   ]
  },
  {
   "cell_type": "code",
   "execution_count": 16,
   "metadata": {},
   "outputs": [
    {
     "name": "stdout",
     "output_type": "stream",
     "text": [
      "['SiteID', 'Date', 'SampleID', 'Field_method', 'Al_ppm', 'Ca_ppm', 'Cl_ppm', 'Fe_ppm', 'K_ppm', 'Mg_ppm', 'Mn_ppm', 'Na_ppm', 'NH4_ppm', 'NO3_ppm', 'P_ppm', 'S_ppm', 'Zn_ppm', 'EC_mS_cm', 'pH', 'TSS_ppm', 'N_total_ppm', 'P_total_ppm']\n",
      "['SiteID', 'Date', 'SampleID', 'm3_s']\n"
     ]
    }
   ],
   "source": [
    "#Confirm Renaming\n",
    "print(f\"{list(ceap.columns)}\")\n",
    "print(f\"{list(flow.columns)}\")"
   ]
  },
  {
   "cell_type": "code",
   "execution_count": 17,
   "metadata": {},
   "outputs": [
    {
     "data": {
      "text/html": [
       "<div>\n",
       "<style scoped>\n",
       "    .dataframe tbody tr th:only-of-type {\n",
       "        vertical-align: middle;\n",
       "    }\n",
       "\n",
       "    .dataframe tbody tr th {\n",
       "        vertical-align: top;\n",
       "    }\n",
       "\n",
       "    .dataframe thead th {\n",
       "        text-align: right;\n",
       "    }\n",
       "</style>\n",
       "<table border=\"1\" class=\"dataframe\">\n",
       "  <thead>\n",
       "    <tr style=\"text-align: right;\">\n",
       "      <th></th>\n",
       "      <th>SiteID</th>\n",
       "      <th>Date</th>\n",
       "      <th>SampleID</th>\n",
       "      <th>m3_s</th>\n",
       "    </tr>\n",
       "  </thead>\n",
       "  <tbody>\n",
       "    <tr>\n",
       "      <th>0</th>\n",
       "      <td>\"IDUSRRCH\"</td>\n",
       "      <td>2015-06-02 09:03:00</td>\n",
       "      <td>\"RCH.0205\"</td>\n",
       "      <td>1299369.0</td>\n",
       "    </tr>\n",
       "    <tr>\n",
       "      <th>1</th>\n",
       "      <td>\"IDUSRRCH\"</td>\n",
       "      <td>2015-06-09 08:58:00</td>\n",
       "      <td>\"RCH.0206\"</td>\n",
       "      <td>657667.0</td>\n",
       "    </tr>\n",
       "    <tr>\n",
       "      <th>2</th>\n",
       "      <td>\"IDUSRRCH\"</td>\n",
       "      <td>2015-06-16 09:15:00</td>\n",
       "      <td>\"RCH.0207\"</td>\n",
       "      <td>237604.0</td>\n",
       "    </tr>\n",
       "    <tr>\n",
       "      <th>3</th>\n",
       "      <td>\"IDUSRRCH\"</td>\n",
       "      <td>2015-06-23 08:00:00</td>\n",
       "      <td>\"RCH.0208\"</td>\n",
       "      <td>6949.0</td>\n",
       "    </tr>\n",
       "    <tr>\n",
       "      <th>4</th>\n",
       "      <td>\"IDUSRRCH\"</td>\n",
       "      <td>2015-11-10 10:25:00</td>\n",
       "      <td>\"RCH.0209\"</td>\n",
       "      <td>55303.0</td>\n",
       "    </tr>\n",
       "  </tbody>\n",
       "</table>\n",
       "</div>"
      ],
      "text/plain": [
       "       SiteID                Date    SampleID       m3_s\n",
       "0  \"IDUSRRCH\" 2015-06-02 09:03:00  \"RCH.0205\"  1299369.0\n",
       "1  \"IDUSRRCH\" 2015-06-09 08:58:00  \"RCH.0206\"   657667.0\n",
       "2  \"IDUSRRCH\" 2015-06-16 09:15:00  \"RCH.0207\"   237604.0\n",
       "3  \"IDUSRRCH\" 2015-06-23 08:00:00  \"RCH.0208\"     6949.0\n",
       "4  \"IDUSRRCH\" 2015-11-10 10:25:00  \"RCH.0209\"    55303.0"
      ]
     },
     "execution_count": 17,
     "metadata": {},
     "output_type": "execute_result"
    }
   ],
   "source": [
    "flow.head()"
   ]
  },
  {
   "cell_type": "code",
   "execution_count": 18,
   "metadata": {},
   "outputs": [],
   "source": [
    "# Remove Quotes\n",
    "flow['SiteID'] = flow['SiteID'].str.replace('\\\"', '', regex = True)\n",
    "flow['SampleID'] = flow['SampleID'].str.replace('\\\"', '', regex = True)"
   ]
  },
  {
   "cell_type": "code",
   "execution_count": 19,
   "metadata": {},
   "outputs": [
    {
     "data": {
      "text/plain": [
       "0    IDUSRRCH\n",
       "1    IDUSRRCH\n",
       "2    IDUSRRCH\n",
       "3    IDUSRRCH\n",
       "4    IDUSRRCH\n",
       "Name: SiteID, dtype: object"
      ]
     },
     "execution_count": 19,
     "metadata": {},
     "output_type": "execute_result"
    }
   ],
   "source": [
    "flow['SiteID'].head()"
   ]
  },
  {
   "cell_type": "code",
   "execution_count": 20,
   "metadata": {},
   "outputs": [],
   "source": [
    "# Replace total phosphorous with dissolved where dissolved is higher\n",
    "ceap['P_total_ppm'] = np.where(ceap['P_total_ppm'] < ceap['P_ppm'], ceap['P_ppm'], ceap['P_total_ppm'])"
   ]
  },
  {
   "cell_type": "code",
   "execution_count": 21,
   "metadata": {},
   "outputs": [
    {
     "name": "stdout",
     "output_type": "stream",
     "text": [
      "0\n",
      "True\n",
      "6420\n"
     ]
    }
   ],
   "source": [
    "# confirm No dissolved P is higher\n",
    "print(ceap[ceap['P_ppm']>ceap['P_total_ppm']].shape[0])\n",
    "# confirm equivalence in total dataframe and transformed column\n",
    "print(ceap[ceap['P_ppm'] <= ceap['P_total_ppm']].shape[0] == ceap.shape[0])\n",
    "# drop the dissolved phosphorous\n",
    "ceap.drop('P_ppm', axis = 1, inplace =True)\n",
    "# count total records\n",
    "print(ceap.shape[0])"
   ]
  },
  {
   "cell_type": "code",
   "execution_count": 22,
   "metadata": {},
   "outputs": [
    {
     "data": {
      "text/html": [
       "<div>\n",
       "<style scoped>\n",
       "    .dataframe tbody tr th:only-of-type {\n",
       "        vertical-align: middle;\n",
       "    }\n",
       "\n",
       "    .dataframe tbody tr th {\n",
       "        vertical-align: top;\n",
       "    }\n",
       "\n",
       "    .dataframe thead th {\n",
       "        text-align: right;\n",
       "    }\n",
       "</style>\n",
       "<table border=\"1\" class=\"dataframe\">\n",
       "  <thead>\n",
       "    <tr style=\"text-align: right;\">\n",
       "      <th></th>\n",
       "      <th>SiteID</th>\n",
       "      <th>Date</th>\n",
       "      <th>SampleID</th>\n",
       "      <th>Field_method</th>\n",
       "      <th>Al_ppm</th>\n",
       "      <th>Ca_ppm</th>\n",
       "      <th>Cl_ppm</th>\n",
       "      <th>Fe_ppm</th>\n",
       "      <th>K_ppm</th>\n",
       "      <th>Mg_ppm</th>\n",
       "      <th>...</th>\n",
       "      <th>Na_ppm</th>\n",
       "      <th>NH4_ppm</th>\n",
       "      <th>NO3_ppm</th>\n",
       "      <th>S_ppm</th>\n",
       "      <th>Zn_ppm</th>\n",
       "      <th>EC_mS_cm</th>\n",
       "      <th>pH</th>\n",
       "      <th>TSS_ppm</th>\n",
       "      <th>N_total_ppm</th>\n",
       "      <th>P_total_ppm</th>\n",
       "    </tr>\n",
       "  </thead>\n",
       "  <tbody>\n",
       "    <tr>\n",
       "      <th>0</th>\n",
       "      <td>IDUSRA10</td>\n",
       "      <td>2005-04-19 09:10:00</td>\n",
       "      <td>A10.0001</td>\n",
       "      <td>IDUSR_FM06</td>\n",
       "      <td>0.13</td>\n",
       "      <td>36.88</td>\n",
       "      <td>42.2</td>\n",
       "      <td>0.07</td>\n",
       "      <td>7.36</td>\n",
       "      <td>18.46</td>\n",
       "      <td>...</td>\n",
       "      <td>34.82</td>\n",
       "      <td>0.00</td>\n",
       "      <td>0.00</td>\n",
       "      <td>21.93</td>\n",
       "      <td>0.01</td>\n",
       "      <td>498.0</td>\n",
       "      <td>8.52</td>\n",
       "      <td>172.57</td>\n",
       "      <td>0.62</td>\n",
       "      <td>0.37</td>\n",
       "    </tr>\n",
       "    <tr>\n",
       "      <th>1</th>\n",
       "      <td>IDUSRA10</td>\n",
       "      <td>2005-04-28 09:50:00</td>\n",
       "      <td>A10.0002</td>\n",
       "      <td>IDUSR_FM06</td>\n",
       "      <td>0.01</td>\n",
       "      <td>33.98</td>\n",
       "      <td>38.9</td>\n",
       "      <td>0.01</td>\n",
       "      <td>5.70</td>\n",
       "      <td>18.44</td>\n",
       "      <td>...</td>\n",
       "      <td>31.23</td>\n",
       "      <td>0.00</td>\n",
       "      <td>0.00</td>\n",
       "      <td>15.79</td>\n",
       "      <td>0.05</td>\n",
       "      <td>490.0</td>\n",
       "      <td>8.22</td>\n",
       "      <td>88.42</td>\n",
       "      <td>0.38</td>\n",
       "      <td>0.12</td>\n",
       "    </tr>\n",
       "    <tr>\n",
       "      <th>2</th>\n",
       "      <td>IDUSRA10</td>\n",
       "      <td>2005-05-05 09:40:00</td>\n",
       "      <td>A10.0003</td>\n",
       "      <td>IDUSR_FM06</td>\n",
       "      <td>0.01</td>\n",
       "      <td>43.94</td>\n",
       "      <td>35.8</td>\n",
       "      <td>0.01</td>\n",
       "      <td>5.92</td>\n",
       "      <td>19.62</td>\n",
       "      <td>...</td>\n",
       "      <td>30.26</td>\n",
       "      <td>0.00</td>\n",
       "      <td>0.48</td>\n",
       "      <td>16.75</td>\n",
       "      <td>0.03</td>\n",
       "      <td>509.0</td>\n",
       "      <td>8.52</td>\n",
       "      <td>516.84</td>\n",
       "      <td>0.29</td>\n",
       "      <td>0.08</td>\n",
       "    </tr>\n",
       "    <tr>\n",
       "      <th>3</th>\n",
       "      <td>IDUSRA10</td>\n",
       "      <td>2005-05-19 09:49:00</td>\n",
       "      <td>A10.0004</td>\n",
       "      <td>IDUSR_FM06</td>\n",
       "      <td>0.02</td>\n",
       "      <td>40.41</td>\n",
       "      <td>27.6</td>\n",
       "      <td>0.01</td>\n",
       "      <td>5.57</td>\n",
       "      <td>17.27</td>\n",
       "      <td>...</td>\n",
       "      <td>24.34</td>\n",
       "      <td>0.06</td>\n",
       "      <td>0.00</td>\n",
       "      <td>14.41</td>\n",
       "      <td>0.01</td>\n",
       "      <td>447.0</td>\n",
       "      <td>8.34</td>\n",
       "      <td>60.61</td>\n",
       "      <td>0.34</td>\n",
       "      <td>0.07</td>\n",
       "    </tr>\n",
       "    <tr>\n",
       "      <th>4</th>\n",
       "      <td>IDUSRA10</td>\n",
       "      <td>2005-05-26 09:36:00</td>\n",
       "      <td>A10.0005</td>\n",
       "      <td>IDUSR_FM06</td>\n",
       "      <td>0.01</td>\n",
       "      <td>39.99</td>\n",
       "      <td>29.3</td>\n",
       "      <td>0.01</td>\n",
       "      <td>5.67</td>\n",
       "      <td>17.12</td>\n",
       "      <td>...</td>\n",
       "      <td>25.72</td>\n",
       "      <td>0.00</td>\n",
       "      <td>0.00</td>\n",
       "      <td>14.25</td>\n",
       "      <td>0.00</td>\n",
       "      <td>456.0</td>\n",
       "      <td>8.49</td>\n",
       "      <td>42.95</td>\n",
       "      <td>0.46</td>\n",
       "      <td>0.09</td>\n",
       "    </tr>\n",
       "  </tbody>\n",
       "</table>\n",
       "<p>5 rows × 21 columns</p>\n",
       "</div>"
      ],
      "text/plain": [
       "     SiteID                Date  SampleID Field_method  Al_ppm  Ca_ppm  \\\n",
       "0  IDUSRA10 2005-04-19 09:10:00  A10.0001   IDUSR_FM06    0.13   36.88   \n",
       "1  IDUSRA10 2005-04-28 09:50:00  A10.0002   IDUSR_FM06    0.01   33.98   \n",
       "2  IDUSRA10 2005-05-05 09:40:00  A10.0003   IDUSR_FM06    0.01   43.94   \n",
       "3  IDUSRA10 2005-05-19 09:49:00  A10.0004   IDUSR_FM06    0.02   40.41   \n",
       "4  IDUSRA10 2005-05-26 09:36:00  A10.0005   IDUSR_FM06    0.01   39.99   \n",
       "\n",
       "   Cl_ppm  Fe_ppm  K_ppm  Mg_ppm  ...  Na_ppm  NH4_ppm  NO3_ppm  S_ppm  \\\n",
       "0    42.2    0.07   7.36   18.46  ...   34.82     0.00     0.00  21.93   \n",
       "1    38.9    0.01   5.70   18.44  ...   31.23     0.00     0.00  15.79   \n",
       "2    35.8    0.01   5.92   19.62  ...   30.26     0.00     0.48  16.75   \n",
       "3    27.6    0.01   5.57   17.27  ...   24.34     0.06     0.00  14.41   \n",
       "4    29.3    0.01   5.67   17.12  ...   25.72     0.00     0.00  14.25   \n",
       "\n",
       "   Zn_ppm  EC_mS_cm    pH  TSS_ppm  N_total_ppm  P_total_ppm  \n",
       "0    0.01     498.0  8.52   172.57         0.62         0.37  \n",
       "1    0.05     490.0  8.22    88.42         0.38         0.12  \n",
       "2    0.03     509.0  8.52   516.84         0.29         0.08  \n",
       "3    0.01     447.0  8.34    60.61         0.34         0.07  \n",
       "4    0.00     456.0  8.49    42.95         0.46         0.09  \n",
       "\n",
       "[5 rows x 21 columns]"
      ]
     },
     "execution_count": 22,
     "metadata": {},
     "output_type": "execute_result"
    }
   ],
   "source": [
    "ceap.head()"
   ]
  },
  {
   "cell_type": "markdown",
   "metadata": {},
   "source": [
    "### Data Cleaning\n",
    "#### Duplicate Check"
   ]
  },
  {
   "cell_type": "code",
   "execution_count": 23,
   "metadata": {},
   "outputs": [
    {
     "name": "stdout",
     "output_type": "stream",
     "text": [
      "False\n",
      "False\n"
     ]
    }
   ],
   "source": [
    "# Check for duplicates across ALL records\n",
    "print(ceap.duplicated().values.any() == True)\n",
    "print(flow.duplicated().values.any() == True)"
   ]
  },
  {
   "cell_type": "markdown",
   "metadata": {},
   "source": [
    "## Missing Values"
   ]
  },
  {
   "cell_type": "code",
   "execution_count": 24,
   "metadata": {},
   "outputs": [
    {
     "name": "stdout",
     "output_type": "stream",
     "text": [
      "False\n",
      "False\n"
     ]
    }
   ],
   "source": [
    "# Check for null values across ALL records\n",
    "print(ceap.isnull().values.any() == True)\n",
    "print(flow.isnull().values.any() == True)"
   ]
  },
  {
   "cell_type": "markdown",
   "metadata": {},
   "source": [
    "### Outliers"
   ]
  },
  {
   "cell_type": "markdown",
   "metadata": {},
   "source": [
    "#### CEAP Site ID's"
   ]
  },
  {
   "cell_type": "code",
   "execution_count": 25,
   "metadata": {},
   "outputs": [
    {
     "name": "stdout",
     "output_type": "stream",
     "text": [
      "Unique Site ID's: ['IDUSRA10' 'IDUSRCD' 'IDUSRDC' 'IDUSREP' 'IDUSRIC' 'IDUSRL10P'\n",
      " 'IDUSRL10S' 'IDUSRL26' 'IDUSRL3' 'IDUSRL30' 'IDUSRL39' 'IDUSRL43'\n",
      " 'IDUSRL49' 'IDUSRL5A' 'IDUSRMC' 'IDUSRMLA' 'IDUSRNC' 'IDUSRPC' 'IDUSRQ2'\n",
      " 'IDUSRQC' 'IDUSRRCH' 'IDUSRRCP' 'IDUSRS2' 'IDUSRSC' 'IDUSRSQ' 'IDUSRTF'\n",
      " 'IDUSRTFB' 'IDUSRTN']\n",
      "Number of Unique Values: 28\n"
     ]
    }
   ],
   "source": [
    "# Unqiue values of SiteID\n",
    "print(f\"Unique Site ID's: {ceap['SiteID'].unique()}\")\n",
    "print(f\"Number of Unique Values: {ceap['SiteID'].nunique()}\")"
   ]
  },
  {
   "cell_type": "markdown",
   "metadata": {},
   "source": [
    "#### Flow Site ID's"
   ]
  },
  {
   "cell_type": "code",
   "execution_count": 26,
   "metadata": {},
   "outputs": [
    {
     "name": "stdout",
     "output_type": "stream",
     "text": [
      "Unique Site ID's: ['IDUSRRCH' 'IDUSRRCP' 'IDUSRCD' 'IDUSRDC' 'IDUSRIC' 'IDUSRMC' 'IDUSRMLA'\n",
      " 'IDUSRNC' 'IDUSRA10' 'IDUSREP' 'IDUSRL3' 'IDUSRL30' 'IDUSRL39' 'IDUSRS2'\n",
      " 'IDUSRL10P' 'IDUSRL10S' 'IDUSRL26' 'IDUSRL43' 'IDUSRL49' 'IDUSRL5A'\n",
      " 'IDUSRPC' 'IDUSRQ2' 'IDUSRQC' 'IDUSRSC' 'IDUSRSQ' 'IDUSRTF' 'IDUSRTN']\n",
      "Number of Unique Values: 27\n"
     ]
    }
   ],
   "source": [
    "print(f\"Unique Site ID's: {flow['SiteID'].unique()}\")\n",
    "print(f\"Number of Unique Values: {flow['SiteID'].nunique()}\")"
   ]
  },
  {
   "cell_type": "code",
   "execution_count": 27,
   "metadata": {},
   "outputs": [
    {
     "data": {
      "image/png": "[encoded data removed]",
      "text/plain": [
       "<Figure size 1600x900 with 18 Axes>"
      ]
     },
     "metadata": {},
     "output_type": "display_data"
    }
   ],
   "source": [
    "# histograms\n",
    "fig,axs = plt.subplots(6,3, figsize= (16,9))\n",
    "\n",
    "sns.histplot(ceap['Al_ppm'], ax =axs[0,0])\n",
    "sns.histplot(ceap['Ca_ppm'], ax =axs[0,1])\n",
    "sns.histplot(ceap['Cl_ppm'], ax =axs[0,2])\n",
    "sns.histplot(ceap['Fe_ppm'], ax =axs[1,0])\n",
    "sns.histplot(ceap['K_ppm'], ax =axs[1,1])\n",
    "sns.histplot(ceap['Mg_ppm'], ax =axs[1,2])\n",
    "sns.histplot(ceap['Mn_ppm'], ax =axs[2,0])\n",
    "sns.histplot(ceap['Na_ppm'], ax =axs[2,1])\n",
    "sns.histplot(ceap['NH4_ppm'], ax =axs[2,2])\n",
    "sns.histplot(ceap['NO3_ppm'], ax =axs[3,0])\n",
    "sns.histplot(ceap['S_ppm'], ax =axs[3,1])\n",
    "sns.histplot(ceap['Zn_ppm'], ax =axs[3,2])\n",
    "sns.histplot(ceap['EC_mS_cm'], ax =axs[4,0])\n",
    "sns.histplot(ceap['pH'], ax =axs[4,1])\n",
    "sns.histplot(ceap['TSS_ppm'], ax =axs[4,2])\n",
    "sns.histplot(ceap['N_total_ppm'], ax =axs[5,0])\n",
    "sns.histplot(ceap['P_total_ppm'], ax =axs[5,1])\n",
    "\n",
    "\n",
    "axs[0,0].set_xlabel('Al_ppm')\n",
    "axs[0,1].set_xlabel('Ca_ppm')\n",
    "axs[0,2].set_xlabel('Cl_ppm')\n",
    "axs[1,0].set_xlabel('Fe_ppm')\n",
    "axs[1,1].set_xlabel('K_ppm')\n",
    "axs[1,2].set_xlabel('Mg_ppm')\n",
    "axs[2,0].set_xlabel('Mn_ppm')\n",
    "axs[2,1].set_xlabel('Na_ppm')\n",
    "axs[2,2].set_xlabel('NH4_ppm')\n",
    "axs[3,0].set_xlabel('NO3_ppm')\n",
    "axs[3,1].set_xlabel('S_ppm')\n",
    "axs[3,2].set_xlabel('Zn_ppm')\n",
    "axs[4,0].set_xlabel('EC_mS_cm')\n",
    "axs[4,1].set_xlabel('pH')\n",
    "axs[4,2].set_xlabel('TSS_ppm')\n",
    "axs[5,0].set_xlabel('N_total_ppm')\n",
    "axs[5,1].set_xlabel('P_total_ppm')\n",
    "axs[5,2].set_xlabel('Blank Chart')\n",
    "\n",
    "fig.tight_layout()\n"
   ]
  },
  {
   "cell_type": "code",
   "execution_count": 28,
   "metadata": {},
   "outputs": [
    {
     "data": {
      "text/plain": [
       "<Axes: xlabel='m3_s', ylabel='Count'>"
      ]
     },
     "execution_count": 28,
     "metadata": {},
     "output_type": "execute_result"
    },
    {
     "data": {
      "image/png": "[encoded data removed]",
      "text/plain": [
       "<Figure size 640x480 with 1 Axes>"
      ]
     },
     "metadata": {},
     "output_type": "display_data"
    }
   ],
   "source": [
    "sns.histplot(flow['m3_s'])"
   ]
  },
  {
   "cell_type": "code",
   "execution_count": 29,
   "metadata": {},
   "outputs": [
    {
     "name": "stdout",
     "output_type": "stream",
     "text": [
      "CEAP rows:\n",
      " 6420\n",
      "CEAP flow_rate rows:\n",
      " 6181\n"
     ]
    }
   ],
   "source": [
    "#Record Counts\n",
    "print(f\"CEAP rows:\\n {ceap.shape[0]}\")\n",
    "print(f\"CEAP flow_rate rows:\\n {flow.shape[0]}\")"
   ]
  },
  {
   "cell_type": "markdown",
   "metadata": {},
   "source": [
    "### Merge Flows and Water Quality"
   ]
  },
  {
   "cell_type": "code",
   "execution_count": 30,
   "metadata": {},
   "outputs": [
    {
     "name": "stdout",
     "output_type": "stream",
     "text": [
      "<class 'pandas.core.frame.DataFrame'>\n",
      "RangeIndex: 6181 entries, 0 to 6180\n",
      "Data columns (total 4 columns):\n",
      " #   Column    Non-Null Count  Dtype         \n",
      "---  ------    --------------  -----         \n",
      " 0   SiteID    6181 non-null   object        \n",
      " 1   Date      6181 non-null   datetime64[ns]\n",
      " 2   SampleID  6181 non-null   object        \n",
      " 3   m3_s      6181 non-null   float64       \n",
      "dtypes: datetime64[ns](1), float64(1), object(2)\n",
      "memory usage: 193.3+ KB\n",
      "<class 'pandas.core.frame.DataFrame'>\n",
      "RangeIndex: 6420 entries, 0 to 6419\n",
      "Data columns (total 21 columns):\n",
      " #   Column        Non-Null Count  Dtype         \n",
      "---  ------        --------------  -----         \n",
      " 0   SiteID        6420 non-null   object        \n",
      " 1   Date          6420 non-null   datetime64[ns]\n",
      " 2   SampleID      6420 non-null   object        \n",
      " 3   Field_method  6420 non-null   object        \n",
      " 4   Al_ppm        6420 non-null   float64       \n",
      " 5   Ca_ppm        6420 non-null   float64       \n",
      " 6   Cl_ppm        6420 non-null   float64       \n",
      " 7   Fe_ppm        6420 non-null   float64       \n",
      " 8   K_ppm         6420 non-null   float64       \n",
      " 9   Mg_ppm        6420 non-null   float64       \n",
      " 10  Mn_ppm        6420 non-null   float64       \n",
      " 11  Na_ppm        6420 non-null   float64       \n",
      " 12  NH4_ppm       6420 non-null   float64       \n",
      " 13  NO3_ppm       6420 non-null   float64       \n",
      " 14  S_ppm         6420 non-null   float64       \n",
      " 15  Zn_ppm        6420 non-null   float64       \n",
      " 16  EC_mS_cm      6420 non-null   float64       \n",
      " 17  pH            6420 non-null   float64       \n",
      " 18  TSS_ppm       6420 non-null   float64       \n",
      " 19  N_total_ppm   6420 non-null   float64       \n",
      " 20  P_total_ppm   6420 non-null   float64       \n",
      "dtypes: datetime64[ns](1), float64(17), object(3)\n",
      "memory usage: 1.0+ MB\n"
     ]
    },
    {
     "data": {
      "text/plain": [
       "5893"
      ]
     },
     "execution_count": 30,
     "metadata": {},
     "output_type": "execute_result"
    }
   ],
   "source": [
    "#flow.join(ceap, on = ['SiteID']).shape[0]\n",
    "flow.info()\n",
    "ceap.info()\n",
    "\n",
    "grouper = pd.merge(flow, ceap, on = ['SiteID', 'Date', 'SampleID'], how = 'inner')\n",
    "grouper.shape[0]\n"
   ]
  },
  {
   "cell_type": "code",
   "execution_count": 31,
   "metadata": {},
   "outputs": [
    {
     "name": "stdout",
     "output_type": "stream",
     "text": [
      "False\n",
      "False\n",
      "<class 'pandas.core.frame.DataFrame'>\n",
      "RangeIndex: 5893 entries, 0 to 5892\n",
      "Data columns (total 22 columns):\n",
      " #   Column        Non-Null Count  Dtype         \n",
      "---  ------        --------------  -----         \n",
      " 0   SiteID        5893 non-null   object        \n",
      " 1   Date          5893 non-null   datetime64[ns]\n",
      " 2   SampleID      5893 non-null   object        \n",
      " 3   m3_s          5893 non-null   float64       \n",
      " 4   Field_method  5893 non-null   object        \n",
      " 5   Al_ppm        5893 non-null   float64       \n",
      " 6   Ca_ppm        5893 non-null   float64       \n",
      " 7   Cl_ppm        5893 non-null   float64       \n",
      " 8   Fe_ppm        5893 non-null   float64       \n",
      " 9   K_ppm         5893 non-null   float64       \n",
      " 10  Mg_ppm        5893 non-null   float64       \n",
      " 11  Mn_ppm        5893 non-null   float64       \n",
      " 12  Na_ppm        5893 non-null   float64       \n",
      " 13  NH4_ppm       5893 non-null   float64       \n",
      " 14  NO3_ppm       5893 non-null   float64       \n",
      " 15  S_ppm         5893 non-null   float64       \n",
      " 16  Zn_ppm        5893 non-null   float64       \n",
      " 17  EC_mS_cm      5893 non-null   float64       \n",
      " 18  pH            5893 non-null   float64       \n",
      " 19  TSS_ppm       5893 non-null   float64       \n",
      " 20  N_total_ppm   5893 non-null   float64       \n",
      " 21  P_total_ppm   5893 non-null   float64       \n",
      "dtypes: datetime64[ns](1), float64(18), object(3)\n",
      "memory usage: 1013.0+ KB\n",
      "None\n"
     ]
    }
   ],
   "source": [
    "# Check for NULL Values\n",
    "print(grouper.isnull().values.any() == True)\n",
    "# Check for Duplicate Values\n",
    "print(grouper.duplicated().values.any() == True)\n",
    "print(grouper.info())"
   ]
  },
  {
   "cell_type": "code",
   "execution_count": 32,
   "metadata": {},
   "outputs": [
    {
     "data": {
      "text/plain": [
       "SiteID            27\n",
       "Date            5447\n",
       "SampleID        5893\n",
       "m3_s            5471\n",
       "Field_method       3\n",
       "Al_ppm           264\n",
       "Ca_ppm          3797\n",
       "Cl_ppm           776\n",
       "Fe_ppm           311\n",
       "K_ppm            620\n",
       "Mg_ppm          2711\n",
       "Mn_ppm           642\n",
       "Na_ppm          3805\n",
       "NH4_ppm          175\n",
       "NO3_ppm          698\n",
       "S_ppm           2785\n",
       "Zn_ppm            98\n",
       "EC_mS_cm        1370\n",
       "pH               207\n",
       "TSS_ppm         2716\n",
       "N_total_ppm      235\n",
       "P_total_ppm      110\n",
       "dtype: int64"
      ]
     },
     "execution_count": 32,
     "metadata": {},
     "output_type": "execute_result"
    }
   ],
   "source": [
    "grouper = grouper.sort_values(by = ['SiteID', 'Date'])\n",
    "# Unique Values\n",
    "grouper.nunique()"
   ]
  },
  {
   "cell_type": "markdown",
   "metadata": {},
   "source": [
    "# Linear Regression Before Transformation"
   ]
  },
  {
   "cell_type": "code",
   "execution_count": 33,
   "metadata": {},
   "outputs": [
    {
     "data": {
      "text/html": [
       "<div>\n",
       "<style scoped>\n",
       "    .dataframe tbody tr th:only-of-type {\n",
       "        vertical-align: middle;\n",
       "    }\n",
       "\n",
       "    .dataframe tbody tr th {\n",
       "        vertical-align: top;\n",
       "    }\n",
       "\n",
       "    .dataframe thead th {\n",
       "        text-align: right;\n",
       "    }\n",
       "</style>\n",
       "<table border=\"1\" class=\"dataframe\">\n",
       "  <thead>\n",
       "    <tr style=\"text-align: right;\">\n",
       "      <th></th>\n",
       "      <th>m3_s</th>\n",
       "      <th>Al_ppm</th>\n",
       "      <th>Ca_ppm</th>\n",
       "      <th>Cl_ppm</th>\n",
       "      <th>Fe_ppm</th>\n",
       "      <th>K_ppm</th>\n",
       "      <th>Mg_ppm</th>\n",
       "      <th>Mn_ppm</th>\n",
       "      <th>Na_ppm</th>\n",
       "      <th>NH4_ppm</th>\n",
       "      <th>NO3_ppm</th>\n",
       "      <th>S_ppm</th>\n",
       "      <th>Zn_ppm</th>\n",
       "      <th>EC_mS_cm</th>\n",
       "      <th>pH</th>\n",
       "      <th>TSS_ppm</th>\n",
       "      <th>N_total_ppm</th>\n",
       "    </tr>\n",
       "  </thead>\n",
       "  <tbody>\n",
       "    <tr>\n",
       "      <th>count</th>\n",
       "      <td>5893.000000</td>\n",
       "      <td>5.893000e+03</td>\n",
       "      <td>5.893000e+03</td>\n",
       "      <td>5.893000e+03</td>\n",
       "      <td>5.893000e+03</td>\n",
       "      <td>5.893000e+03</td>\n",
       "      <td>5.893000e+03</td>\n",
       "      <td>5.893000e+03</td>\n",
       "      <td>5.893000e+03</td>\n",
       "      <td>5.893000e+03</td>\n",
       "      <td>5.893000e+03</td>\n",
       "      <td>5.893000e+03</td>\n",
       "      <td>5893.000000</td>\n",
       "      <td>5.893000e+03</td>\n",
       "      <td>5.893000e+03</td>\n",
       "      <td>5.893000e+03</td>\n",
       "      <td>5.893000e+03</td>\n",
       "    </tr>\n",
       "    <tr>\n",
       "      <th>mean</th>\n",
       "      <td>0.000000</td>\n",
       "      <td>-8.681330e-17</td>\n",
       "      <td>-3.665450e-16</td>\n",
       "      <td>-2.315021e-16</td>\n",
       "      <td>-3.858369e-17</td>\n",
       "      <td>-9.645922e-18</td>\n",
       "      <td>-9.645922e-17</td>\n",
       "      <td>2.411481e-17</td>\n",
       "      <td>-1.398659e-16</td>\n",
       "      <td>-4.822961e-18</td>\n",
       "      <td>-1.929184e-17</td>\n",
       "      <td>-1.109281e-16</td>\n",
       "      <td>0.000000</td>\n",
       "      <td>4.822961e-16</td>\n",
       "      <td>-2.797317e-16</td>\n",
       "      <td>-3.858369e-17</td>\n",
       "      <td>2.652629e-17</td>\n",
       "    </tr>\n",
       "    <tr>\n",
       "      <th>std</th>\n",
       "      <td>1.000000</td>\n",
       "      <td>1.000000e+00</td>\n",
       "      <td>1.000000e+00</td>\n",
       "      <td>1.000000e+00</td>\n",
       "      <td>1.000000e+00</td>\n",
       "      <td>1.000000e+00</td>\n",
       "      <td>1.000000e+00</td>\n",
       "      <td>1.000000e+00</td>\n",
       "      <td>1.000000e+00</td>\n",
       "      <td>1.000000e+00</td>\n",
       "      <td>1.000000e+00</td>\n",
       "      <td>1.000000e+00</td>\n",
       "      <td>1.000000</td>\n",
       "      <td>1.000000e+00</td>\n",
       "      <td>1.000000e+00</td>\n",
       "      <td>1.000000e+00</td>\n",
       "      <td>1.000000e+00</td>\n",
       "    </tr>\n",
       "    <tr>\n",
       "      <th>min</th>\n",
       "      <td>-0.275076</td>\n",
       "      <td>-6.559288e-01</td>\n",
       "      <td>-3.033255e+00</td>\n",
       "      <td>-1.605132e+00</td>\n",
       "      <td>-5.887594e-01</td>\n",
       "      <td>-3.802819e+00</td>\n",
       "      <td>-2.420443e+00</td>\n",
       "      <td>-3.911652e-01</td>\n",
       "      <td>-1.882980e+00</td>\n",
       "      <td>-3.607918e-01</td>\n",
       "      <td>-9.541845e-01</td>\n",
       "      <td>-2.049715e+00</td>\n",
       "      <td>-0.028560</td>\n",
       "      <td>-2.845832e+00</td>\n",
       "      <td>-1.090602e+01</td>\n",
       "      <td>-2.795500e-01</td>\n",
       "      <td>-9.948817e-01</td>\n",
       "    </tr>\n",
       "    <tr>\n",
       "      <th>25%</th>\n",
       "      <td>-0.270163</td>\n",
       "      <td>-6.559288e-01</td>\n",
       "      <td>-6.382786e-01</td>\n",
       "      <td>-5.663507e-01</td>\n",
       "      <td>-4.162538e-01</td>\n",
       "      <td>-5.678852e-01</td>\n",
       "      <td>-7.244802e-01</td>\n",
       "      <td>-2.897415e-01</td>\n",
       "      <td>-7.769299e-01</td>\n",
       "      <td>-3.308907e-01</td>\n",
       "      <td>-9.245328e-01</td>\n",
       "      <td>-7.193927e-01</td>\n",
       "      <td>-0.026299</td>\n",
       "      <td>-7.479521e-01</td>\n",
       "      <td>-1.409952e-01</td>\n",
       "      <td>-2.057627e-01</td>\n",
       "      <td>-4.992247e-01</td>\n",
       "    </tr>\n",
       "    <tr>\n",
       "      <th>50%</th>\n",
       "      <td>-0.253892</td>\n",
       "      <td>-4.455566e-01</td>\n",
       "      <td>-1.037241e-01</td>\n",
       "      <td>-1.489894e-02</td>\n",
       "      <td>-2.480706e-01</td>\n",
       "      <td>-9.749938e-02</td>\n",
       "      <td>-1.051498e-01</td>\n",
       "      <td>-2.897415e-01</td>\n",
       "      <td>-2.246460e-01</td>\n",
       "      <td>-2.039221e-01</td>\n",
       "      <td>-2.305673e-01</td>\n",
       "      <td>-1.714985e-01</td>\n",
       "      <td>-0.026299</td>\n",
       "      <td>-1.167627e-01</td>\n",
       "      <td>1.112063e-01</td>\n",
       "      <td>-1.270689e-01</td>\n",
       "      <td>-1.334261e-01</td>\n",
       "    </tr>\n",
       "    <tr>\n",
       "      <th>75%</th>\n",
       "      <td>-0.163072</td>\n",
       "      <td>3.959324e-01</td>\n",
       "      <td>7.463848e-01</td>\n",
       "      <td>7.738054e-01</td>\n",
       "      <td>-7.988736e-02</td>\n",
       "      <td>4.554102e-01</td>\n",
       "      <td>7.913335e-01</td>\n",
       "      <td>-2.586135e-01</td>\n",
       "      <td>7.939671e-01</td>\n",
       "      <td>1.134993e-01</td>\n",
       "      <td>4.522947e-01</td>\n",
       "      <td>6.119025e-01</td>\n",
       "      <td>-0.026299</td>\n",
       "      <td>8.605391e-01</td>\n",
       "      <td>3.103128e-01</td>\n",
       "      <td>2.441560e-02</td>\n",
       "      <td>3.421120e-01</td>\n",
       "    </tr>\n",
       "    <tr>\n",
       "      <th>max</th>\n",
       "      <td>35.601992</td>\n",
       "      <td>1.294814e+01</td>\n",
       "      <td>8.480973e+00</td>\n",
       "      <td>6.923134e+00</td>\n",
       "      <td>2.144757e+01</td>\n",
       "      <td>1.098545e+01</td>\n",
       "      <td>3.229214e+00</td>\n",
       "      <td>4.918520e+01</td>\n",
       "      <td>4.531022e+00</td>\n",
       "      <td>5.902692e+01</td>\n",
       "      <td>7.153225e+00</td>\n",
       "      <td>4.247662e+00</td>\n",
       "      <td>76.290079</td>\n",
       "      <td>2.206634e+00</td>\n",
       "      <td>1.863343e+00</td>\n",
       "      <td>6.518506e+01</td>\n",
       "      <td>4.533534e+01</td>\n",
       "    </tr>\n",
       "  </tbody>\n",
       "</table>\n",
       "</div>"
      ],
      "text/plain": [
       "              m3_s        Al_ppm        Ca_ppm        Cl_ppm        Fe_ppm  \\\n",
       "count  5893.000000  5.893000e+03  5.893000e+03  5.893000e+03  5.893000e+03   \n",
       "mean      0.000000 -8.681330e-17 -3.665450e-16 -2.315021e-16 -3.858369e-17   \n",
       "std       1.000000  1.000000e+00  1.000000e+00  1.000000e+00  1.000000e+00   \n",
       "min      -0.275076 -6.559288e-01 -3.033255e+00 -1.605132e+00 -5.887594e-01   \n",
       "25%      -0.270163 -6.559288e-01 -6.382786e-01 -5.663507e-01 -4.162538e-01   \n",
       "50%      -0.253892 -4.455566e-01 -1.037241e-01 -1.489894e-02 -2.480706e-01   \n",
       "75%      -0.163072  3.959324e-01  7.463848e-01  7.738054e-01 -7.988736e-02   \n",
       "max      35.601992  1.294814e+01  8.480973e+00  6.923134e+00  2.144757e+01   \n",
       "\n",
       "              K_ppm        Mg_ppm        Mn_ppm        Na_ppm       NH4_ppm  \\\n",
       "count  5.893000e+03  5.893000e+03  5.893000e+03  5.893000e+03  5.893000e+03   \n",
       "mean  -9.645922e-18 -9.645922e-17  2.411481e-17 -1.398659e-16 -4.822961e-18   \n",
       "std    1.000000e+00  1.000000e+00  1.000000e+00  1.000000e+00  1.000000e+00   \n",
       "min   -3.802819e+00 -2.420443e+00 -3.911652e-01 -1.882980e+00 -3.607918e-01   \n",
       "25%   -5.678852e-01 -7.244802e-01 -2.897415e-01 -7.769299e-01 -3.308907e-01   \n",
       "50%   -9.749938e-02 -1.051498e-01 -2.897415e-01 -2.246460e-01 -2.039221e-01   \n",
       "75%    4.554102e-01  7.913335e-01 -2.586135e-01  7.939671e-01  1.134993e-01   \n",
       "max    1.098545e+01  3.229214e+00  4.918520e+01  4.531022e+00  5.902692e+01   \n",
       "\n",
       "            NO3_ppm         S_ppm       Zn_ppm      EC_mS_cm            pH  \\\n",
       "count  5.893000e+03  5.893000e+03  5893.000000  5.893000e+03  5.893000e+03   \n",
       "mean  -1.929184e-17 -1.109281e-16     0.000000  4.822961e-16 -2.797317e-16   \n",
       "std    1.000000e+00  1.000000e+00     1.000000  1.000000e+00  1.000000e+00   \n",
       "min   -9.541845e-01 -2.049715e+00    -0.028560 -2.845832e+00 -1.090602e+01   \n",
       "25%   -9.245328e-01 -7.193927e-01    -0.026299 -7.479521e-01 -1.409952e-01   \n",
       "50%   -2.305673e-01 -1.714985e-01    -0.026299 -1.167627e-01  1.112063e-01   \n",
       "75%    4.522947e-01  6.119025e-01    -0.026299  8.605391e-01  3.103128e-01   \n",
       "max    7.153225e+00  4.247662e+00    76.290079  2.206634e+00  1.863343e+00   \n",
       "\n",
       "            TSS_ppm   N_total_ppm  \n",
       "count  5.893000e+03  5.893000e+03  \n",
       "mean  -3.858369e-17  2.652629e-17  \n",
       "std    1.000000e+00  1.000000e+00  \n",
       "min   -2.795500e-01 -9.948817e-01  \n",
       "25%   -2.057627e-01 -4.992247e-01  \n",
       "50%   -1.270689e-01 -1.334261e-01  \n",
       "75%    2.441560e-02  3.421120e-01  \n",
       "max    6.518506e+01  4.533534e+01  "
      ]
     },
     "execution_count": 33,
     "metadata": {},
     "output_type": "execute_result"
    }
   ],
   "source": [
    "X = grouper.drop(['P_total_ppm', 'SiteID', 'Date', 'Field_method', 'SampleID'], axis = 1)\n",
    "y = grouper['P_total_ppm']\n",
    "# Normalize X\n",
    "\n",
    "X = (X-X.mean())/X.std()\n",
    "\n",
    "X.describe()"
   ]
  },
  {
   "cell_type": "markdown",
   "metadata": {},
   "source": [
    "## Statistical Model Significance"
   ]
  },
  {
   "cell_type": "code",
   "execution_count": 34,
   "metadata": {},
   "outputs": [
    {
     "name": "stdout",
     "output_type": "stream",
     "text": [
      "                            OLS Regression Results                            \n",
      "==============================================================================\n",
      "Dep. Variable:            P_total_ppm   R-squared:                       0.881\n",
      "Model:                            OLS   Adj. R-squared:                  0.881\n",
      "Method:                 Least Squares   F-statistic:                     2559.\n",
      "Date:                Wed, 14 Feb 2024   Prob (F-statistic):               0.00\n",
      "Time:                        17:35:56   Log-Likelihood:                 6500.5\n",
      "No. Observations:                5893   AIC:                        -1.296e+04\n",
      "Df Residuals:                    5875   BIC:                        -1.284e+04\n",
      "Df Model:                          17                                         \n",
      "Covariance Type:            nonrobust                                         \n",
      "===============================================================================\n",
      "                  coef    std err          t      P>|t|      [0.025      0.975]\n",
      "-------------------------------------------------------------------------------\n",
      "const           0.1289      0.001    123.051      0.000       0.127       0.131\n",
      "m3_s           -0.0039      0.001     -3.558      0.000      -0.006      -0.002\n",
      "Al_ppm          0.0136      0.001      9.628      0.000       0.011       0.016\n",
      "Ca_ppm          0.0010      0.003      0.325      0.745      -0.005       0.007\n",
      "Cl_ppm         -0.0039      0.001     -2.736      0.006      -0.007      -0.001\n",
      "Fe_ppm         -0.0135      0.001     -9.567      0.000      -0.016      -0.011\n",
      "K_ppm           0.0279      0.001     21.316      0.000       0.025       0.030\n",
      "Mg_ppm         -0.0188      0.004     -4.494      0.000      -0.027      -0.011\n",
      "Mn_ppm          0.0009      0.001      0.671      0.502      -0.002       0.004\n",
      "Na_ppm         -0.0073      0.002     -3.255      0.001      -0.012      -0.003\n",
      "NH4_ppm         0.0110      0.001     10.302      0.000       0.009       0.013\n",
      "NO3_ppm         0.0050      0.002      2.101      0.036       0.000       0.010\n",
      "S_ppm          -0.0029      0.003     -0.986      0.324      -0.009       0.003\n",
      "Zn_ppm         -0.0015      0.001     -1.385      0.166      -0.004       0.001\n",
      "EC_mS_cm        0.0089      0.004      2.480      0.013       0.002       0.016\n",
      "pH             -0.0006      0.001     -0.505      0.614      -0.003       0.002\n",
      "TSS_ppm         0.1750      0.002    105.726      0.000       0.172       0.178\n",
      "N_total_ppm     0.0499      0.002     32.820      0.000       0.047       0.053\n",
      "==============================================================================\n",
      "Omnibus:                     7321.858   Durbin-Watson:                   1.534\n",
      "Prob(Omnibus):                  0.000   Jarque-Bera (JB):          4876892.287\n",
      "Skew:                           6.129   Prob(JB):                         0.00\n",
      "Kurtosis:                     143.398   Cond. No.                         11.3\n",
      "==============================================================================\n",
      "\n",
      "Notes:\n",
      "[1] Standard Errors assume that the covariance matrix of the errors is correctly specified.\n"
     ]
    }
   ],
   "source": [
    "import statsmodels.api as sm\n",
    "\n",
    "# SM.OLS = linear\n",
    "# Assume X is your matrix of independent variables and Y is your vector of dependent variable\n",
    "X = sm.add_constant(X) # adding a constant\n",
    "model = sm.OLS(y, X).fit()\n",
    "\n",
    "print(model.summary())"
   ]
  },
  {
   "cell_type": "markdown",
   "metadata": {},
   "source": [
    "## Cross Validation Accuracy"
   ]
  },
  {
   "cell_type": "code",
   "execution_count": 35,
   "metadata": {},
   "outputs": [
    {
     "name": "stdout",
     "output_type": "stream",
     "text": [
      "Mean of Cross Validation Scores: \n",
      "0.09447248963999098\n",
      "\n"
     ]
    }
   ],
   "source": [
    "linreg = LinearRegression()\n",
    "cv_results = cross_val_score(linreg, X, y, cv = 60)\n",
    "print(f'Mean of Cross Validation Scores: \\n{np.mean(cv_results)}\\n')"
   ]
  },
  {
   "cell_type": "markdown",
   "metadata": {},
   "source": [
    "## Hold-Out Testing Accuracy"
   ]
  },
  {
   "cell_type": "code",
   "execution_count": 36,
   "metadata": {},
   "outputs": [
    {
     "name": "stdout",
     "output_type": "stream",
     "text": [
      "Hold-Out Testing Score: \n",
      "0.7515177854488924\n"
     ]
    }
   ],
   "source": [
    "X_train, X_test, y_train, y_test = train_test_split(X, y, test_size = 0.3, random_state=42)\n",
    "\n",
    "linreg.fit(X_train, y_train)\n",
    "\n",
    "print(f'Hold-Out Testing Score: \\n{linreg.score(X_test, y_test)}')"
   ]
  },
  {
   "cell_type": "code",
   "execution_count": 37,
   "metadata": {},
   "outputs": [
    {
     "data": {
      "text/html": [
       "<div>\n",
       "<style scoped>\n",
       "    .dataframe tbody tr th:only-of-type {\n",
       "        vertical-align: middle;\n",
       "    }\n",
       "\n",
       "    .dataframe tbody tr th {\n",
       "        vertical-align: top;\n",
       "    }\n",
       "\n",
       "    .dataframe thead th {\n",
       "        text-align: right;\n",
       "    }\n",
       "</style>\n",
       "<table border=\"1\" class=\"dataframe\">\n",
       "  <thead>\n",
       "    <tr style=\"text-align: right;\">\n",
       "      <th></th>\n",
       "      <th>0</th>\n",
       "      <th>0</th>\n",
       "    </tr>\n",
       "  </thead>\n",
       "  <tbody>\n",
       "    <tr>\n",
       "      <th>0</th>\n",
       "      <td>const</td>\n",
       "      <td>0.000000</td>\n",
       "    </tr>\n",
       "    <tr>\n",
       "      <th>1</th>\n",
       "      <td>m3_s</td>\n",
       "      <td>-0.004874</td>\n",
       "    </tr>\n",
       "    <tr>\n",
       "      <th>2</th>\n",
       "      <td>Al_ppm</td>\n",
       "      <td>0.014094</td>\n",
       "    </tr>\n",
       "    <tr>\n",
       "      <th>3</th>\n",
       "      <td>Ca_ppm</td>\n",
       "      <td>0.003280</td>\n",
       "    </tr>\n",
       "    <tr>\n",
       "      <th>4</th>\n",
       "      <td>Cl_ppm</td>\n",
       "      <td>-0.003037</td>\n",
       "    </tr>\n",
       "    <tr>\n",
       "      <th>5</th>\n",
       "      <td>Fe_ppm</td>\n",
       "      <td>-0.014218</td>\n",
       "    </tr>\n",
       "    <tr>\n",
       "      <th>6</th>\n",
       "      <td>K_ppm</td>\n",
       "      <td>0.019257</td>\n",
       "    </tr>\n",
       "    <tr>\n",
       "      <th>7</th>\n",
       "      <td>Mg_ppm</td>\n",
       "      <td>-0.010028</td>\n",
       "    </tr>\n",
       "    <tr>\n",
       "      <th>8</th>\n",
       "      <td>Mn_ppm</td>\n",
       "      <td>0.002526</td>\n",
       "    </tr>\n",
       "    <tr>\n",
       "      <th>9</th>\n",
       "      <td>Na_ppm</td>\n",
       "      <td>-0.006799</td>\n",
       "    </tr>\n",
       "    <tr>\n",
       "      <th>10</th>\n",
       "      <td>NH4_ppm</td>\n",
       "      <td>0.006948</td>\n",
       "    </tr>\n",
       "    <tr>\n",
       "      <th>11</th>\n",
       "      <td>NO3_ppm</td>\n",
       "      <td>-0.005979</td>\n",
       "    </tr>\n",
       "    <tr>\n",
       "      <th>12</th>\n",
       "      <td>S_ppm</td>\n",
       "      <td>-0.003355</td>\n",
       "    </tr>\n",
       "    <tr>\n",
       "      <th>13</th>\n",
       "      <td>Zn_ppm</td>\n",
       "      <td>-0.005264</td>\n",
       "    </tr>\n",
       "    <tr>\n",
       "      <th>14</th>\n",
       "      <td>EC_mS_cm</td>\n",
       "      <td>0.011902</td>\n",
       "    </tr>\n",
       "    <tr>\n",
       "      <th>15</th>\n",
       "      <td>pH</td>\n",
       "      <td>-0.000949</td>\n",
       "    </tr>\n",
       "    <tr>\n",
       "      <th>16</th>\n",
       "      <td>TSS_ppm</td>\n",
       "      <td>0.174400</td>\n",
       "    </tr>\n",
       "    <tr>\n",
       "      <th>17</th>\n",
       "      <td>N_total_ppm</td>\n",
       "      <td>0.048707</td>\n",
       "    </tr>\n",
       "  </tbody>\n",
       "</table>\n",
       "</div>"
      ],
      "text/plain": [
       "              0         0\n",
       "0         const  0.000000\n",
       "1          m3_s -0.004874\n",
       "2        Al_ppm  0.014094\n",
       "3        Ca_ppm  0.003280\n",
       "4        Cl_ppm -0.003037\n",
       "5        Fe_ppm -0.014218\n",
       "6         K_ppm  0.019257\n",
       "7        Mg_ppm -0.010028\n",
       "8        Mn_ppm  0.002526\n",
       "9        Na_ppm -0.006799\n",
       "10      NH4_ppm  0.006948\n",
       "11      NO3_ppm -0.005979\n",
       "12        S_ppm -0.003355\n",
       "13       Zn_ppm -0.005264\n",
       "14     EC_mS_cm  0.011902\n",
       "15           pH -0.000949\n",
       "16      TSS_ppm  0.174400\n",
       "17  N_total_ppm  0.048707"
      ]
     },
     "execution_count": 37,
     "metadata": {},
     "output_type": "execute_result"
    }
   ],
   "source": [
    "# Linear Regression coefficients\n",
    "pd.concat([pd.DataFrame(linreg.feature_names_in_), pd.DataFrame(linreg.coef_)], axis = 1)"
   ]
  },
  {
   "cell_type": "code",
   "execution_count": 38,
   "metadata": {},
   "outputs": [
    {
     "data": {
      "text/plain": [
       "0.12776277657485083"
      ]
     },
     "execution_count": 38,
     "metadata": {},
     "output_type": "execute_result"
    }
   ],
   "source": [
    "# Logistic Regression Intercept\n",
    "linreg.intercept_"
   ]
  },
  {
   "cell_type": "markdown",
   "metadata": {},
   "source": [
    "# Linear Regression - No_ions"
   ]
  },
  {
   "cell_type": "code",
   "execution_count": 39,
   "metadata": {},
   "outputs": [],
   "source": [
    "X_no_ions = X[['m3_s', 'EC_mS_cm', 'pH', 'TSS_ppm']]\n",
    "X_train, X_test, y_train, y_test = train_test_split(X_no_ions, y, test_size = 0.3, random_state=42)"
   ]
  },
  {
   "cell_type": "markdown",
   "metadata": {},
   "source": [
    "## Statistical Model Significance"
   ]
  },
  {
   "cell_type": "code",
   "execution_count": 40,
   "metadata": {},
   "outputs": [
    {
     "name": "stdout",
     "output_type": "stream",
     "text": [
      "                            OLS Regression Results                            \n",
      "==============================================================================\n",
      "Dep. Variable:            P_total_ppm   R-squared:                       0.833\n",
      "Model:                            OLS   Adj. R-squared:                  0.833\n",
      "Method:                 Least Squares   F-statistic:                     7361.\n",
      "Date:                Wed, 14 Feb 2024   Prob (F-statistic):               0.00\n",
      "Time:                        17:35:56   Log-Likelihood:                 5507.3\n",
      "No. Observations:                5893   AIC:                        -1.100e+04\n",
      "Df Residuals:                    5888   BIC:                        -1.097e+04\n",
      "Df Model:                           4                                         \n",
      "Covariance Type:            nonrobust                                         \n",
      "==============================================================================\n",
      "                 coef    std err          t      P>|t|      [0.025      0.975]\n",
      "------------------------------------------------------------------------------\n",
      "const          0.1289      0.001    104.081      0.000       0.126       0.131\n",
      "m3_s          -0.0075      0.001     -5.899      0.000      -0.010      -0.005\n",
      "EC_mS_cm       0.0010      0.001      0.800      0.424      -0.001       0.004\n",
      "pH             0.0006      0.001      0.469      0.639      -0.002       0.003\n",
      "TSS_ppm        0.2122      0.001    170.753      0.000       0.210       0.215\n",
      "==============================================================================\n",
      "Omnibus:                     8072.048   Durbin-Watson:                   1.543\n",
      "Prob(Omnibus):                  0.000   Jarque-Bera (JB):          5955384.375\n",
      "Skew:                           7.431   Prob(JB):                         0.00\n",
      "Kurtosis:                     158.026   Cond. No.                         1.28\n",
      "==============================================================================\n",
      "\n",
      "Notes:\n",
      "[1] Standard Errors assume that the covariance matrix of the errors is correctly specified.\n"
     ]
    }
   ],
   "source": [
    "import statsmodels.api as sm\n",
    "\n",
    "# SM.OLS = linear\n",
    "# Assume X is your matrix of independent variables and Y is your vector of dependent variable\n",
    "X_no_ions = sm.add_constant(X_no_ions) # adding a constant\n",
    "model = sm.OLS(y, X_no_ions).fit()\n",
    "\n",
    "print(model.summary())"
   ]
  },
  {
   "cell_type": "markdown",
   "metadata": {},
   "source": [
    "## Cross Validation Accuracy"
   ]
  },
  {
   "cell_type": "code",
   "execution_count": 41,
   "metadata": {},
   "outputs": [
    {
     "name": "stdout",
     "output_type": "stream",
     "text": [
      "Mean of Cross Validation Scores: \n",
      "0.10341921739090455\n",
      "\n"
     ]
    }
   ],
   "source": [
    "linreg = LinearRegression()\n",
    "cv_results = cross_val_score(linreg, X_no_ions, y, cv = 60)\n",
    "print(f'Mean of Cross Validation Scores: \\n{np.mean(cv_results)}\\n')"
   ]
  },
  {
   "cell_type": "markdown",
   "metadata": {},
   "source": [
    "## Hold Out Testing Accuracy"
   ]
  },
  {
   "cell_type": "code",
   "execution_count": 42,
   "metadata": {},
   "outputs": [
    {
     "name": "stdout",
     "output_type": "stream",
     "text": [
      "Hold-Out Testing Score: \n",
      "0.6637654029434776\n"
     ]
    }
   ],
   "source": [
    "linreg.fit(X_train, y_train)\n",
    "\n",
    "print(f'Hold-Out Testing Score: \\n{linreg.score(X_test, y_test)}')"
   ]
  },
  {
   "cell_type": "code",
   "execution_count": 43,
   "metadata": {},
   "outputs": [
    {
     "data": {
      "text/html": [
       "<div>\n",
       "<style scoped>\n",
       "    .dataframe tbody tr th:only-of-type {\n",
       "        vertical-align: middle;\n",
       "    }\n",
       "\n",
       "    .dataframe tbody tr th {\n",
       "        vertical-align: top;\n",
       "    }\n",
       "\n",
       "    .dataframe thead th {\n",
       "        text-align: right;\n",
       "    }\n",
       "</style>\n",
       "<table border=\"1\" class=\"dataframe\">\n",
       "  <thead>\n",
       "    <tr style=\"text-align: right;\">\n",
       "      <th></th>\n",
       "      <th>0</th>\n",
       "      <th>0</th>\n",
       "    </tr>\n",
       "  </thead>\n",
       "  <tbody>\n",
       "    <tr>\n",
       "      <th>0</th>\n",
       "      <td>m3_s</td>\n",
       "      <td>-0.007097</td>\n",
       "    </tr>\n",
       "    <tr>\n",
       "      <th>1</th>\n",
       "      <td>EC_mS_cm</td>\n",
       "      <td>0.001916</td>\n",
       "    </tr>\n",
       "    <tr>\n",
       "      <th>2</th>\n",
       "      <td>pH</td>\n",
       "      <td>0.001282</td>\n",
       "    </tr>\n",
       "    <tr>\n",
       "      <th>3</th>\n",
       "      <td>TSS_ppm</td>\n",
       "      <td>0.211147</td>\n",
       "    </tr>\n",
       "  </tbody>\n",
       "</table>\n",
       "</div>"
      ],
      "text/plain": [
       "          0         0\n",
       "0      m3_s -0.007097\n",
       "1  EC_mS_cm  0.001916\n",
       "2        pH  0.001282\n",
       "3   TSS_ppm  0.211147"
      ]
     },
     "execution_count": 43,
     "metadata": {},
     "output_type": "execute_result"
    }
   ],
   "source": [
    "# Coefficients\n",
    "pd.concat([pd.DataFrame(linreg.feature_names_in_), pd.DataFrame(linreg.coef_)], axis = 1)"
   ]
  },
  {
   "cell_type": "code",
   "execution_count": 44,
   "metadata": {},
   "outputs": [
    {
     "data": {
      "text/plain": [
       "0.12744270350207074"
      ]
     },
     "execution_count": 44,
     "metadata": {},
     "output_type": "execute_result"
    }
   ],
   "source": [
    "# Linear Regression Intercept\n",
    "linreg.intercept_"
   ]
  },
  {
   "cell_type": "code",
   "execution_count": 45,
   "metadata": {},
   "outputs": [],
   "source": [
    "grouper.to_excel('ceap_public.xlsx', index = False)\n",
    "grouper.to_csv('ceap_public.csv', index = False)"
   ]
  },
  {
   "cell_type": "markdown",
   "metadata": {},
   "source": [
    "### Regression - linear on quantitative vars and P_total_ppm"
   ]
  },
  {
   "cell_type": "code",
   "execution_count": 46,
   "metadata": {},
   "outputs": [
    {
     "name": "stdout",
     "output_type": "stream",
     "text": [
      "R^2 with respect to total Phosphorous m3_s:\n",
      "0.02086064272687907 \n",
      "\n",
      "R^2 with respect to total Phosphorous Al_ppm:\n",
      "0.030775387851836734 \n",
      "\n",
      "R^2 with respect to total Phosphorous Ca_ppm:\n",
      "0.004632224721595728 \n",
      "\n",
      "R^2 with respect to total Phosphorous Cl_ppm:\n",
      "0.019072936702025062 \n",
      "\n",
      "R^2 with respect to total Phosphorous Fe_ppm:\n",
      "0.00910923935713895 \n",
      "\n",
      "R^2 with respect to total Phosphorous K_ppm:\n",
      "0.02369607289311791 \n",
      "\n",
      "R^2 with respect to total Phosphorous Mg_ppm:\n",
      "0.006739417805612133 \n",
      "\n",
      "R^2 with respect to total Phosphorous Mn_ppm:\n",
      "0.0009991252762384358 \n",
      "\n",
      "R^2 with respect to total Phosphorous Na_ppm:\n",
      "0.005274455077168558 \n",
      "\n",
      "R^2 with respect to total Phosphorous NH4_ppm:\n",
      "5.300092903785686e-05 \n",
      "\n",
      "R^2 with respect to total Phosphorous NO3_ppm:\n",
      "0.022653170923636824 \n",
      "\n",
      "R^2 with respect to total Phosphorous S_ppm:\n",
      "0.011202215340463664 \n",
      "\n",
      "R^2 with respect to total Phosphorous Zn_ppm:\n",
      "0.001265640495227383 \n",
      "\n",
      "R^2 with respect to total Phosphorous EC_mS_cm:\n",
      "0.0064996697794633155 \n",
      "\n",
      "R^2 with respect to total Phosphorous pH:\n",
      "0.019496844746435798 \n",
      "\n",
      "R^2 with respect to total Phosphorous TSS_ppm:\n",
      "0.41128639257712124 \n",
      "\n",
      "R^2 with respect to total Phosphorous N_total_ppm:\n",
      "0.30514582193495965 \n",
      "\n"
     ]
    }
   ],
   "source": [
    "from scipy.stats import spearmanr\n",
    "quant_vars = ['m3_s', 'Al_ppm','Ca_ppm', 'Cl_ppm', 'Fe_ppm', 'K_ppm', 'Mg_ppm', 'Mn_ppm', 'Na_ppm', 'NH4_ppm', 'NO3_ppm', 'S_ppm', 'Zn_ppm', 'EC_mS_cm', 'pH', 'TSS_ppm','N_total_ppm']\n",
    "\n",
    "for var in quant_vars:\n",
    "    corr, _ = spearmanr(grouper[[var]], grouper['P_total_ppm'])\n",
    "    R_square = corr**2\n",
    "    print('R^2 with respect to total Phosphorous {}:\\n{} {}'.format(var, R_square,'''\\n'''))"
   ]
  },
  {
   "cell_type": "markdown",
   "metadata": {},
   "source": [
    "---\n",
    "---\n",
    "---\n",
    "\n",
    "## Statistically significant vars"
   ]
  },
  {
   "cell_type": "code",
   "execution_count": 51,
   "metadata": {},
   "outputs": [
    {
     "data": {
      "text/plain": [
       "['m3_s',\n",
       " 'Al_ppm',\n",
       " 'Cl_ppm',\n",
       " 'Fe_ppm',\n",
       " 'K_ppm',\n",
       " 'Mg_ppm',\n",
       " 'Na_ppm',\n",
       " 'NH4_ppm',\n",
       " 'NO3_ppm',\n",
       " 'S_ppm',\n",
       " 'EC_mS_cm',\n",
       " 'TSS_ppm',\n",
       " 'N_total_ppm']"
      ]
     },
     "execution_count": 51,
     "metadata": {},
     "output_type": "execute_result"
    }
   ],
   "source": [
    "X_sig = grouper.drop(['P_total_ppm', 'SiteID', 'Date', 'Field_method', 'SampleID', 'Ca_ppm', 'pH', 'Zn_ppm', 'Mn_ppm'], axis = 1)\n",
    "X_train, X_test, y_train, y_test = train_test_split(X_sig, y, test_size = 0.3, random_state=42)\n",
    "# List statistically significant vars\n",
    "list(X_sig.columns)"
   ]
  },
  {
   "cell_type": "code",
   "execution_count": 48,
   "metadata": {},
   "outputs": [
    {
     "name": "stdout",
     "output_type": "stream",
     "text": [
      "                            OLS Regression Results                            \n",
      "==============================================================================\n",
      "Dep. Variable:            P_total_ppm   R-squared:                       0.881\n",
      "Model:                            OLS   Adj. R-squared:                  0.881\n",
      "Method:                 Least Squares   F-statistic:                     3348.\n",
      "Date:                Wed, 14 Feb 2024   Prob (F-statistic):               0.00\n",
      "Time:                        17:36:00   Log-Likelihood:                 6499.1\n",
      "No. Observations:                5893   AIC:                        -1.297e+04\n",
      "Df Residuals:                    5879   BIC:                        -1.288e+04\n",
      "Df Model:                          13                                         \n",
      "Covariance Type:            nonrobust                                         \n",
      "===============================================================================\n",
      "                  coef    std err          t      P>|t|      [0.025      0.975]\n",
      "-------------------------------------------------------------------------------\n",
      "const          -0.0397      0.006     -6.682      0.000      -0.051      -0.028\n",
      "m3_s         -2.83e-10   7.99e-11     -3.542      0.000    -4.4e-10   -1.26e-10\n",
      "Al_ppm          0.0948      0.010      9.649      0.000       0.076       0.114\n",
      "Cl_ppm         -0.0003   8.96e-05     -2.890      0.004      -0.000   -8.33e-05\n",
      "Fe_ppm         -0.2260      0.024     -9.528      0.000      -0.273      -0.180\n",
      "K_ppm           0.0230      0.001     21.844      0.000       0.021       0.025\n",
      "Mg_ppm         -0.0019      0.000     -5.364      0.000      -0.003      -0.001\n",
      "Na_ppm         -0.0004      0.000     -3.258      0.001      -0.001      -0.000\n",
      "NH4_ppm         0.0697      0.007     10.332      0.000       0.056       0.083\n",
      "NO3_ppm         0.0030      0.001      2.416      0.016       0.001       0.006\n",
      "S_ppm          -0.0002      0.000     -0.843      0.399      -0.001       0.000\n",
      "EC_mS_cm     3.933e-05   1.56e-05      2.523      0.012    8.77e-06    6.99e-05\n",
      "TSS_ppm         0.0007   5.71e-06    117.807      0.000       0.001       0.001\n",
      "N_total_ppm     0.0915      0.003     32.938      0.000       0.086       0.097\n",
      "==============================================================================\n",
      "Omnibus:                     7305.256   Durbin-Watson:                   1.532\n",
      "Prob(Omnibus):                  0.000   Jarque-Bera (JB):          4848806.516\n",
      "Skew:                           6.102   Prob(JB):                         0.00\n",
      "Kurtosis:                     142.994   Cond. No.                     3.33e+08\n",
      "==============================================================================\n",
      "\n",
      "Notes:\n",
      "[1] Standard Errors assume that the covariance matrix of the errors is correctly specified.\n",
      "[2] The condition number is large, 3.33e+08. This might indicate that there are\n",
      "strong multicollinearity or other numerical problems.\n"
     ]
    }
   ],
   "source": [
    "# Assume X is your matrix of independent variables and Y is your vector of dependent variable\n",
    "X_sig = sm.add_constant(X_sig) # adding a constant\n",
    "model = sm.OLS(y, X_sig).fit()\n",
    "\n",
    "print(model.summary())\n"
   ]
  },
  {
   "cell_type": "markdown",
   "metadata": {},
   "source": [
    "## Hold Out Testing"
   ]
  },
  {
   "cell_type": "code",
   "execution_count": 52,
   "metadata": {},
   "outputs": [
    {
     "name": "stdout",
     "output_type": "stream",
     "text": [
      "Hold-Out Testing Score: \n",
      "0.7534440753823484\n"
     ]
    }
   ],
   "source": [
    "linreg.fit(X_train, y_train)\n",
    "\n",
    "print(f'Hold-Out Testing Score: \\n{linreg.score(X_test, y_test)}')"
   ]
  },
  {
   "cell_type": "markdown",
   "metadata": {},
   "source": [
    "## Cross Validation Accuracy"
   ]
  },
  {
   "cell_type": "code",
   "execution_count": 53,
   "metadata": {},
   "outputs": [
    {
     "name": "stdout",
     "output_type": "stream",
     "text": [
      "Mean of Cross Validation Scores: \n",
      "0.15586481835628754\n",
      "\n"
     ]
    }
   ],
   "source": [
    "cv_results = cross_val_score(linreg, X_sig, y, cv = 60)\n",
    "print(f'Mean of Cross Validation Scores: \\n{np.mean(cv_results)}\\n')"
   ]
  },
  {
   "cell_type": "code",
   "execution_count": 49,
   "metadata": {},
   "outputs": [
    {
     "data": {
      "text/plain": [
       "0.010351264211776684"
      ]
     },
     "execution_count": 49,
     "metadata": {},
     "output_type": "execute_result"
    }
   ],
   "source": [
    "predicted_outcomes = np.round(model.predict())\n",
    "accuracy = np.mean(predicted_outcomes == True)\n",
    "accuracy"
   ]
  },
  {
   "cell_type": "markdown",
   "metadata": {},
   "source": [
    "## Data Summary and Implications\n",
    "Multiple linear regression provides frequently accurate predictions for the data sets provided. The model has poor predictability in a general use case. \n",
    "### Original Model\n",
    "  - R<sup>2</sup> = 0.881\n",
    "  - Hold-Out Testing Accuracy: 0.75\n",
    "  - 60-Fold Cross Validation Accuracy: 0.09\n",
    "### Lean Model \n",
    "  - R<sup>2</sup> = 0.883\n",
    "  - Hold-Out Testing Accuracy: 0.66\n",
    "  - 60-Fold Cross Validation Accuracy: 0.10\n",
    "  - **Limited Variables**: m3_s, EC_mS_cm, pH, TSS_ppm\n",
    "### Statistically Significant Variables: Model\n",
    "  - R<sup>2</sup> = 0.881\n",
    "  - Hold-Out Testing Accuracy: 0.75\n",
    "  - 60-Fold Cross Validation Accuracy: 0.16"
   ]
  }
 ],
 "metadata": {
  "kernelspec": {
   "display_name": "Python 3",
   "language": "python",
   "name": "python3"
  },
  "language_info": {
   "codemirror_mode": {
    "name": "ipython",
    "version": 3
   },
   "file_extension": ".py",
   "mimetype": "text/x-python",
   "name": "python",
   "nbconvert_exporter": "python",
   "pygments_lexer": "ipython3",
   "version": "3.10.11"
  }
 },
 "nbformat": 4,
 "nbformat_minor": 2
}
